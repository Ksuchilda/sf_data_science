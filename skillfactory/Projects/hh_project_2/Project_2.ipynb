{
 "cells": [
  {
   "cell_type": "markdown",
   "id": "42289889-bd57-434e-9637-d3e354756316",
   "metadata": {
    "id": "42289889-bd57-434e-9637-d3e354756316"
   },
   "source": [
    "<center> <img src = https://raw.githubusercontent.com/AndreyRysistov/DatasetsForPandas/main/hh%20label.jpg alt=\"drawing\" style=\"width:400px;\">"
   ]
  },
  {
   "cell_type": "markdown",
   "id": "829cb75b-f14e-4ba8-9195-7ba929a7d656",
   "metadata": {
    "id": "829cb75b-f14e-4ba8-9195-7ba929a7d656",
    "tags": []
   },
   "source": [
    "# <center> Проект: Анализ вакансий из HeadHunter\n",
    "   "
   ]
  },
  {
   "cell_type": "code",
   "execution_count": 140,
   "id": "dccfde33-2452-43fb-a8a5-5c6ebc02a71d",
   "metadata": {
    "id": "dccfde33-2452-43fb-a8a5-5c6ebc02a71d"
   },
   "outputs": [],
   "source": [
    "# импорт библиотек\n",
    "import pandas as pd\n",
    "import psycopg2\n",
    "import plotly.express as px\n",
    "import plotly.graph_objects as go\n",
    "import requests\n",
    "from bs4 import BeautifulSoup"
   ]
  },
  {
   "cell_type": "code",
   "execution_count": null,
   "id": "oVKH4ehvf8Ay",
   "metadata": {
    "id": "oVKH4ehvf8Ay"
   },
   "outputs": [],
   "source": [
    "# вставьте сюда параметры подключения из юнита 1. Работа с базой данных из Python \n"
   ]
  },
  {
   "cell_type": "code",
   "execution_count": 142,
   "id": "G4X_q8KBf7SF",
   "metadata": {
    "id": "G4X_q8KBf7SF"
   },
   "outputs": [],
   "source": [
    "connection = psycopg2.connect(\n",
    "    dbname=DBNAME,\n",
    "    user=USER,\n",
    "    host=HOST,\n",
    "    password=PASSWORD,\n",
    "    port=PORT\n",
    ")"
   ]
  },
  {
   "cell_type": "markdown",
   "id": "0dc6476b-7a00-44f1-ac93-6e3baed33a29",
   "metadata": {
    "id": "0dc6476b-7a00-44f1-ac93-6e3baed33a29"
   },
   "source": [
    "# Юнит 3. Предварительный анализ данных"
   ]
  },
  {
   "cell_type": "markdown",
   "id": "889782b6-8d1c-410e-8920-e57f27917c64",
   "metadata": {
    "id": "889782b6-8d1c-410e-8920-e57f27917c64"
   },
   "source": [
    "1. Напишите запрос, который посчитает количество вакансий в нашей базе (вакансии находятся в таблице vacancies). "
   ]
  },
  {
   "cell_type": "code",
   "execution_count": 143,
   "id": "bc39e68e-ed02-4ee2-9235-7258a2f867a8",
   "metadata": {
    "id": "bc39e68e-ed02-4ee2-9235-7258a2f867a8"
   },
   "outputs": [],
   "source": [
    "# текст запроса\n",
    "query_3_1 = '''\n",
    "    select \n",
    "        count(*)\n",
    "    from vacancies\n",
    "'''"
   ]
  },
  {
   "cell_type": "code",
   "execution_count": 144,
   "id": "7mAwtsk4hEHY",
   "metadata": {
    "id": "7mAwtsk4hEHY"
   },
   "outputs": [
    {
     "name": "stderr",
     "output_type": "stream",
     "text": [
      "C:\\Users\\kinde\\AppData\\Local\\Temp\\ipykernel_10516\\2627226083.py:2: UserWarning:\n",
      "\n",
      "pandas only supports SQLAlchemy connectable (engine/connection) or database string URI or sqlite3 DBAPI2 connection. Other DBAPI2 objects are not tested. Please consider using SQLAlchemy.\n",
      "\n"
     ]
    },
    {
     "data": {
      "text/html": [
       "<div>\n",
       "<style scoped>\n",
       "    .dataframe tbody tr th:only-of-type {\n",
       "        vertical-align: middle;\n",
       "    }\n",
       "\n",
       "    .dataframe tbody tr th {\n",
       "        vertical-align: top;\n",
       "    }\n",
       "\n",
       "    .dataframe thead th {\n",
       "        text-align: right;\n",
       "    }\n",
       "</style>\n",
       "<table border=\"1\" class=\"dataframe\">\n",
       "  <thead>\n",
       "    <tr style=\"text-align: right;\">\n",
       "      <th></th>\n",
       "      <th>count</th>\n",
       "    </tr>\n",
       "  </thead>\n",
       "  <tbody>\n",
       "    <tr>\n",
       "      <th>0</th>\n",
       "      <td>49197</td>\n",
       "    </tr>\n",
       "  </tbody>\n",
       "</table>\n",
       "</div>"
      ],
      "text/plain": [
       "   count\n",
       "0  49197"
      ]
     },
     "execution_count": 144,
     "metadata": {},
     "output_type": "execute_result"
    }
   ],
   "source": [
    "# результат запроса\n",
    "count_vacancies = pd.read_sql_query(query_3_1, connection)\n",
    "count_vacancies"
   ]
  },
  {
   "cell_type": "markdown",
   "id": "b583485d-1f9e-494e-ada4-80ffff7c53d6",
   "metadata": {
    "id": "b583485d-1f9e-494e-ada4-80ffff7c53d6"
   },
   "source": [
    "2. Напишите запрос, который посчитает количество работодателей (таблица employers). "
   ]
  },
  {
   "cell_type": "code",
   "execution_count": 145,
   "id": "5408c52c-3407-4a63-b25b-1aafa2322d28",
   "metadata": {
    "id": "5408c52c-3407-4a63-b25b-1aafa2322d28"
   },
   "outputs": [],
   "source": [
    "# текст запроса\n",
    "query_3_2 = '''\n",
    "    select \n",
    "        count(*)\n",
    "    from employers\n",
    "'''"
   ]
  },
  {
   "cell_type": "code",
   "execution_count": 146,
   "id": "jVL4eshKhdqc",
   "metadata": {
    "id": "jVL4eshKhdqc"
   },
   "outputs": [
    {
     "name": "stderr",
     "output_type": "stream",
     "text": [
      "C:\\Users\\kinde\\AppData\\Local\\Temp\\ipykernel_10516\\2124197464.py:2: UserWarning:\n",
      "\n",
      "pandas only supports SQLAlchemy connectable (engine/connection) or database string URI or sqlite3 DBAPI2 connection. Other DBAPI2 objects are not tested. Please consider using SQLAlchemy.\n",
      "\n"
     ]
    },
    {
     "data": {
      "text/html": [
       "<div>\n",
       "<style scoped>\n",
       "    .dataframe tbody tr th:only-of-type {\n",
       "        vertical-align: middle;\n",
       "    }\n",
       "\n",
       "    .dataframe tbody tr th {\n",
       "        vertical-align: top;\n",
       "    }\n",
       "\n",
       "    .dataframe thead th {\n",
       "        text-align: right;\n",
       "    }\n",
       "</style>\n",
       "<table border=\"1\" class=\"dataframe\">\n",
       "  <thead>\n",
       "    <tr style=\"text-align: right;\">\n",
       "      <th></th>\n",
       "      <th>count</th>\n",
       "    </tr>\n",
       "  </thead>\n",
       "  <tbody>\n",
       "    <tr>\n",
       "      <th>0</th>\n",
       "      <td>23501</td>\n",
       "    </tr>\n",
       "  </tbody>\n",
       "</table>\n",
       "</div>"
      ],
      "text/plain": [
       "   count\n",
       "0  23501"
      ]
     },
     "execution_count": 146,
     "metadata": {},
     "output_type": "execute_result"
    }
   ],
   "source": [
    "# результат запроса\n",
    "count_employers = pd.read_sql_query(query_3_2, connection)\n",
    "count_employers"
   ]
  },
  {
   "cell_type": "markdown",
   "id": "a2bfff1f-c975-4bf6-84be-2185d79dcb76",
   "metadata": {
    "id": "a2bfff1f-c975-4bf6-84be-2185d79dcb76"
   },
   "source": [
    "3. Посчитате с помощью запроса количество регионов (таблица areas)."
   ]
  },
  {
   "cell_type": "code",
   "execution_count": 147,
   "id": "1m8QJwBYhey6",
   "metadata": {
    "id": "1m8QJwBYhey6"
   },
   "outputs": [],
   "source": [
    "# текст запроса\n",
    "query_3_3 = '''\n",
    "    select \n",
    "        count(*)\n",
    "    from areas\n",
    "'''"
   ]
  },
  {
   "cell_type": "code",
   "execution_count": 148,
   "id": "EZsn9tlfhe7f",
   "metadata": {
    "id": "EZsn9tlfhe7f"
   },
   "outputs": [
    {
     "name": "stderr",
     "output_type": "stream",
     "text": [
      "C:\\Users\\kinde\\AppData\\Local\\Temp\\ipykernel_10516\\2037178432.py:2: UserWarning:\n",
      "\n",
      "pandas only supports SQLAlchemy connectable (engine/connection) or database string URI or sqlite3 DBAPI2 connection. Other DBAPI2 objects are not tested. Please consider using SQLAlchemy.\n",
      "\n"
     ]
    },
    {
     "data": {
      "text/html": [
       "<div>\n",
       "<style scoped>\n",
       "    .dataframe tbody tr th:only-of-type {\n",
       "        vertical-align: middle;\n",
       "    }\n",
       "\n",
       "    .dataframe tbody tr th {\n",
       "        vertical-align: top;\n",
       "    }\n",
       "\n",
       "    .dataframe thead th {\n",
       "        text-align: right;\n",
       "    }\n",
       "</style>\n",
       "<table border=\"1\" class=\"dataframe\">\n",
       "  <thead>\n",
       "    <tr style=\"text-align: right;\">\n",
       "      <th></th>\n",
       "      <th>count</th>\n",
       "    </tr>\n",
       "  </thead>\n",
       "  <tbody>\n",
       "    <tr>\n",
       "      <th>0</th>\n",
       "      <td>1362</td>\n",
       "    </tr>\n",
       "  </tbody>\n",
       "</table>\n",
       "</div>"
      ],
      "text/plain": [
       "   count\n",
       "0   1362"
      ]
     },
     "execution_count": 148,
     "metadata": {},
     "output_type": "execute_result"
    }
   ],
   "source": [
    "# результат запроса\n",
    "count_area = pd.read_sql_query(query_3_3, connection)\n",
    "count_area"
   ]
  },
  {
   "cell_type": "markdown",
   "id": "41bb59f3-53cc-4a67-a5bc-bedf573955e4",
   "metadata": {
    "id": "41bb59f3-53cc-4a67-a5bc-bedf573955e4"
   },
   "source": [
    "4. Посчитате с помощью запроса количество сфер деятельности в базе (таблица industries)."
   ]
  },
  {
   "cell_type": "code",
   "execution_count": 149,
   "id": "d286cf4c-707b-4cd2-9190-7ab3587d04a1",
   "metadata": {
    "id": "d286cf4c-707b-4cd2-9190-7ab3587d04a1"
   },
   "outputs": [],
   "source": [
    "# текст запроса\n",
    "query_3_4 = '''\n",
    "    select \n",
    "        count(*)\n",
    "    from industries\n",
    "'''"
   ]
  },
  {
   "cell_type": "code",
   "execution_count": 150,
   "id": "JYAaoZ4qhfzW",
   "metadata": {
    "id": "JYAaoZ4qhfzW"
   },
   "outputs": [
    {
     "name": "stderr",
     "output_type": "stream",
     "text": [
      "C:\\Users\\kinde\\AppData\\Local\\Temp\\ipykernel_10516\\2328395817.py:2: UserWarning:\n",
      "\n",
      "pandas only supports SQLAlchemy connectable (engine/connection) or database string URI or sqlite3 DBAPI2 connection. Other DBAPI2 objects are not tested. Please consider using SQLAlchemy.\n",
      "\n"
     ]
    },
    {
     "data": {
      "text/html": [
       "<div>\n",
       "<style scoped>\n",
       "    .dataframe tbody tr th:only-of-type {\n",
       "        vertical-align: middle;\n",
       "    }\n",
       "\n",
       "    .dataframe tbody tr th {\n",
       "        vertical-align: top;\n",
       "    }\n",
       "\n",
       "    .dataframe thead th {\n",
       "        text-align: right;\n",
       "    }\n",
       "</style>\n",
       "<table border=\"1\" class=\"dataframe\">\n",
       "  <thead>\n",
       "    <tr style=\"text-align: right;\">\n",
       "      <th></th>\n",
       "      <th>count</th>\n",
       "    </tr>\n",
       "  </thead>\n",
       "  <tbody>\n",
       "    <tr>\n",
       "      <th>0</th>\n",
       "      <td>294</td>\n",
       "    </tr>\n",
       "  </tbody>\n",
       "</table>\n",
       "</div>"
      ],
      "text/plain": [
       "   count\n",
       "0    294"
      ]
     },
     "execution_count": 150,
     "metadata": {},
     "output_type": "execute_result"
    }
   ],
   "source": [
    "# результат запроса\n",
    "count_industries = pd.read_sql_query(query_3_4, connection)\n",
    "count_industries"
   ]
  },
  {
   "cell_type": "markdown",
   "id": "9b461ac9",
   "metadata": {},
   "source": [
    "***"
   ]
  },
  {
   "cell_type": "markdown",
   "id": "d71bd8dc",
   "metadata": {},
   "source": [
    "Выводы по предварительному анализу данных:"
   ]
  },
  {
   "cell_type": "markdown",
   "id": "9a8a2181-6914-448b-85f1-38f5f18b8a93",
   "metadata": {
    "id": "9a8a2181-6914-448b-85f1-38f5f18b8a93"
   },
   "source": [
    "***"
   ]
  },
  {
   "cell_type": "markdown",
   "id": "b2b2ffba",
   "metadata": {},
   "source": [
    "На основе проведенного предварительного анализа данных можно сделать следующие выводы:\n",
    "\n",
    "Общие сведения:\n",
    "\n",
    "1. Количество вакансий: 49197\n",
    "2. Количество работодателей: 23,501\n",
    "3. Количество регионов: 1,362\n",
    "4. Количество сфер деятельности: 294\n",
    "\n",
    "- Общее число вакансий(49197) указывает на высокий спрос рабочей силы, так же высокое число вакансий может указывать на дефицит специалистов с необходимыми навыками и квалификацией, и высокую конкуренцию среди работодателей, что может проявляться в предоставлении более привлекательных условий работы для соискателей (зарплата, бонусы, гибкий график) \n",
    "\n",
    "- Количество работодателей(23501) указывает на разнообразие компаний, размещающих вакансии, что может свидетельствовать о конкурентоспособности и разнообразии рынка труда\n",
    "\n",
    "- Число вакансий(49197) превышает количество работодателей(23501), что указывает на то, что многие работодатели предлагают несколько позиций\n",
    "\n",
    "- Широкий охват вакансий по регионам(1362) подтверждает, что рынок труда доступен для соискателей на довольно большой территории\n",
    "\n",
    "- Разнообразие сфер деятельности(294) подтверждает высокий спрос на специалистов в различных областях, что открывает широкие возможности для соискателей."
   ]
  },
  {
   "cell_type": "markdown",
   "id": "87d68f63",
   "metadata": {},
   "source": [
    "***"
   ]
  },
  {
   "cell_type": "markdown",
   "id": "8d62a9f3-f64e-4fe7-bdac-c4dffa16155e",
   "metadata": {
    "id": "8d62a9f3-f64e-4fe7-bdac-c4dffa16155e"
   },
   "source": [
    "# Юнит 4. Детальный анализ вакансий"
   ]
  },
  {
   "cell_type": "markdown",
   "id": "93053d3d-b284-481a-9cf7-012d7014c0e0",
   "metadata": {
    "id": "93053d3d-b284-481a-9cf7-012d7014c0e0"
   },
   "source": [
    "1. Напишите запрос, который позволит узнать, сколько (cnt) вакансий в каждом регионе (area).\n",
    "Отсортируйте по количеству вакансий в порядке убывания."
   ]
  },
  {
   "cell_type": "code",
   "execution_count": 151,
   "id": "3f069da6-fdc9-4ae7-b514-fafe2675efd3",
   "metadata": {
    "id": "3f069da6-fdc9-4ae7-b514-fafe2675efd3"
   },
   "outputs": [],
   "source": [
    "# текст запроса\n",
    "query_4_1 = '''\n",
    "   SELECT\n",
    "       a.name area,  --название региона\n",
    "       COUNT(v.id) cnt --число вакансий\n",
    "    FROM vacancies v\n",
    "    JOIN areas a ON v.area_id = a.id\n",
    "    GROUP BY 1\n",
    "    ORDER BY 2 DESC -- сортировка по убыванию числа вакансий\n",
    "'''"
   ]
  },
  {
   "cell_type": "code",
   "execution_count": 152,
   "id": "P7QL86hrjhRJ",
   "metadata": {
    "id": "P7QL86hrjhRJ"
   },
   "outputs": [
    {
     "name": "stderr",
     "output_type": "stream",
     "text": [
      "C:\\Users\\kinde\\AppData\\Local\\Temp\\ipykernel_10516\\2643501108.py:2: UserWarning:\n",
      "\n",
      "pandas only supports SQLAlchemy connectable (engine/connection) or database string URI or sqlite3 DBAPI2 connection. Other DBAPI2 objects are not tested. Please consider using SQLAlchemy.\n",
      "\n"
     ]
    },
    {
     "data": {
      "text/html": [
       "<div>\n",
       "<style scoped>\n",
       "    .dataframe tbody tr th:only-of-type {\n",
       "        vertical-align: middle;\n",
       "    }\n",
       "\n",
       "    .dataframe tbody tr th {\n",
       "        vertical-align: top;\n",
       "    }\n",
       "\n",
       "    .dataframe thead th {\n",
       "        text-align: right;\n",
       "    }\n",
       "</style>\n",
       "<table border=\"1\" class=\"dataframe\">\n",
       "  <thead>\n",
       "    <tr style=\"text-align: right;\">\n",
       "      <th></th>\n",
       "      <th>area</th>\n",
       "      <th>cnt</th>\n",
       "    </tr>\n",
       "  </thead>\n",
       "  <tbody>\n",
       "    <tr>\n",
       "      <th>0</th>\n",
       "      <td>Москва</td>\n",
       "      <td>5333</td>\n",
       "    </tr>\n",
       "    <tr>\n",
       "      <th>1</th>\n",
       "      <td>Санкт-Петербург</td>\n",
       "      <td>2851</td>\n",
       "    </tr>\n",
       "    <tr>\n",
       "      <th>2</th>\n",
       "      <td>Минск</td>\n",
       "      <td>2112</td>\n",
       "    </tr>\n",
       "    <tr>\n",
       "      <th>3</th>\n",
       "      <td>Новосибирск</td>\n",
       "      <td>2006</td>\n",
       "    </tr>\n",
       "    <tr>\n",
       "      <th>4</th>\n",
       "      <td>Алматы</td>\n",
       "      <td>1892</td>\n",
       "    </tr>\n",
       "    <tr>\n",
       "      <th>...</th>\n",
       "      <td>...</td>\n",
       "      <td>...</td>\n",
       "    </tr>\n",
       "    <tr>\n",
       "      <th>764</th>\n",
       "      <td>Тарко-Сале</td>\n",
       "      <td>1</td>\n",
       "    </tr>\n",
       "    <tr>\n",
       "      <th>765</th>\n",
       "      <td>Новоаннинский</td>\n",
       "      <td>1</td>\n",
       "    </tr>\n",
       "    <tr>\n",
       "      <th>766</th>\n",
       "      <td>Бирск</td>\n",
       "      <td>1</td>\n",
       "    </tr>\n",
       "    <tr>\n",
       "      <th>767</th>\n",
       "      <td>Сасово</td>\n",
       "      <td>1</td>\n",
       "    </tr>\n",
       "    <tr>\n",
       "      <th>768</th>\n",
       "      <td>Анна</td>\n",
       "      <td>1</td>\n",
       "    </tr>\n",
       "  </tbody>\n",
       "</table>\n",
       "<p>769 rows × 2 columns</p>\n",
       "</div>"
      ],
      "text/plain": [
       "                area   cnt\n",
       "0             Москва  5333\n",
       "1    Санкт-Петербург  2851\n",
       "2              Минск  2112\n",
       "3        Новосибирск  2006\n",
       "4             Алматы  1892\n",
       "..               ...   ...\n",
       "764       Тарко-Сале     1\n",
       "765    Новоаннинский     1\n",
       "766            Бирск     1\n",
       "767           Сасово     1\n",
       "768             Анна     1\n",
       "\n",
       "[769 rows x 2 columns]"
      ]
     },
     "execution_count": 152,
     "metadata": {},
     "output_type": "execute_result"
    }
   ],
   "source": [
    "# результат запроса\n",
    "cnt_area = pd.read_sql_query(query_4_1, connection)\n",
    "cnt_area"
   ]
  },
  {
   "cell_type": "markdown",
   "id": "4266f0b6-1646-492a-88b4-2f6a46502135",
   "metadata": {
    "id": "4266f0b6-1646-492a-88b4-2f6a46502135"
   },
   "source": [
    "2. Напишите запрос, чтобы определить у какого количества вакансий заполнено хотя бы одно из двух полей с зарплатой."
   ]
  },
  {
   "cell_type": "code",
   "execution_count": 153,
   "id": "0c44b350-72eb-4d65-8b54-a1fc449ba9fd",
   "metadata": {
    "id": "0c44b350-72eb-4d65-8b54-a1fc449ba9fd"
   },
   "outputs": [],
   "source": [
    "# текст запроса\n",
    "query_4_2 = '''\n",
    "   SELECT\n",
    "       COUNT(*)\n",
    "    FROM vacancies v\n",
    "    WHERE v.salary_from IS NOT NULL OR v.salary_to IS NOT NULL --фильтруем вакансии, где указано хотя бы одно из полей ЗП\n",
    "'''"
   ]
  },
  {
   "cell_type": "code",
   "execution_count": 154,
   "id": "rhvwaMDkoWTi",
   "metadata": {
    "id": "rhvwaMDkoWTi"
   },
   "outputs": [
    {
     "name": "stderr",
     "output_type": "stream",
     "text": [
      "C:\\Users\\kinde\\AppData\\Local\\Temp\\ipykernel_10516\\1196159974.py:2: UserWarning:\n",
      "\n",
      "pandas only supports SQLAlchemy connectable (engine/connection) or database string URI or sqlite3 DBAPI2 connection. Other DBAPI2 objects are not tested. Please consider using SQLAlchemy.\n",
      "\n"
     ]
    },
    {
     "data": {
      "text/html": [
       "<div>\n",
       "<style scoped>\n",
       "    .dataframe tbody tr th:only-of-type {\n",
       "        vertical-align: middle;\n",
       "    }\n",
       "\n",
       "    .dataframe tbody tr th {\n",
       "        vertical-align: top;\n",
       "    }\n",
       "\n",
       "    .dataframe thead th {\n",
       "        text-align: right;\n",
       "    }\n",
       "</style>\n",
       "<table border=\"1\" class=\"dataframe\">\n",
       "  <thead>\n",
       "    <tr style=\"text-align: right;\">\n",
       "      <th></th>\n",
       "      <th>count</th>\n",
       "    </tr>\n",
       "  </thead>\n",
       "  <tbody>\n",
       "    <tr>\n",
       "      <th>0</th>\n",
       "      <td>24073</td>\n",
       "    </tr>\n",
       "  </tbody>\n",
       "</table>\n",
       "</div>"
      ],
      "text/plain": [
       "   count\n",
       "0  24073"
      ]
     },
     "execution_count": 154,
     "metadata": {},
     "output_type": "execute_result"
    }
   ],
   "source": [
    "# результат запроса\n",
    "salary_not_null = pd.read_sql_query(query_4_2, connection)\n",
    "salary_not_null"
   ]
  },
  {
   "cell_type": "markdown",
   "id": "635c4d5d-f323-4c66-b428-50a088120aa0",
   "metadata": {
    "id": "635c4d5d-f323-4c66-b428-50a088120aa0"
   },
   "source": [
    "3. Найдите средние значения для нижней и верхней границы зарплатной вилки. Округлите значения до целого."
   ]
  },
  {
   "cell_type": "code",
   "execution_count": 155,
   "id": "603cdbe4-0ec3-4106-8eaf-c73fcdd29165",
   "metadata": {
    "id": "603cdbe4-0ec3-4106-8eaf-c73fcdd29165"
   },
   "outputs": [],
   "source": [
    "# текст запроса\n",
    "query_4_3 = '''\n",
    "    SELECT\n",
    "        ROUND(AVG(v.salary_from)) avg_salary_from, --округленное среднее значение нижней границы ЗП\n",
    "        ROUND(AVG(v.salary_to)) avg_salary_to --округленное среднее значение верхней границы ЗП\n",
    "    FROM vacancies v\n",
    "'''"
   ]
  },
  {
   "cell_type": "code",
   "execution_count": 156,
   "id": "pswpAb66ovZZ",
   "metadata": {
    "id": "pswpAb66ovZZ"
   },
   "outputs": [
    {
     "name": "stderr",
     "output_type": "stream",
     "text": [
      "C:\\Users\\kinde\\AppData\\Local\\Temp\\ipykernel_10516\\2814596301.py:2: UserWarning:\n",
      "\n",
      "pandas only supports SQLAlchemy connectable (engine/connection) or database string URI or sqlite3 DBAPI2 connection. Other DBAPI2 objects are not tested. Please consider using SQLAlchemy.\n",
      "\n"
     ]
    },
    {
     "data": {
      "text/html": [
       "<div>\n",
       "<style scoped>\n",
       "    .dataframe tbody tr th:only-of-type {\n",
       "        vertical-align: middle;\n",
       "    }\n",
       "\n",
       "    .dataframe tbody tr th {\n",
       "        vertical-align: top;\n",
       "    }\n",
       "\n",
       "    .dataframe thead th {\n",
       "        text-align: right;\n",
       "    }\n",
       "</style>\n",
       "<table border=\"1\" class=\"dataframe\">\n",
       "  <thead>\n",
       "    <tr style=\"text-align: right;\">\n",
       "      <th></th>\n",
       "      <th>avg_salary_from</th>\n",
       "      <th>avg_salary_to</th>\n",
       "    </tr>\n",
       "  </thead>\n",
       "  <tbody>\n",
       "    <tr>\n",
       "      <th>0</th>\n",
       "      <td>71065.0</td>\n",
       "      <td>110537.0</td>\n",
       "    </tr>\n",
       "  </tbody>\n",
       "</table>\n",
       "</div>"
      ],
      "text/plain": [
       "   avg_salary_from  avg_salary_to\n",
       "0          71065.0       110537.0"
      ]
     },
     "execution_count": 156,
     "metadata": {},
     "output_type": "execute_result"
    }
   ],
   "source": [
    "# результат запроса\n",
    "salary_avg = pd.read_sql_query(query_4_3, connection)\n",
    "salary_avg"
   ]
  },
  {
   "cell_type": "markdown",
   "id": "f3fdaec9-5fd3-4260-9cf5-1d7406b628a5",
   "metadata": {
    "id": "f3fdaec9-5fd3-4260-9cf5-1d7406b628a5"
   },
   "source": [
    "4. Напишите запрос, который выведет количество вакансий для каждого сочетания типа рабочего графика (schedule) и типа трудоустройства (employment), используемого в вакансиях. Результат отсортируйте по убыванию количества.\n"
   ]
  },
  {
   "cell_type": "code",
   "execution_count": 157,
   "id": "1ea710ec-871b-431e-9462-c7d0fd87011b",
   "metadata": {
    "id": "1ea710ec-871b-431e-9462-c7d0fd87011b"
   },
   "outputs": [],
   "source": [
    "# текст запроса\n",
    "query_4_4 = '''\n",
    "    SELECT\n",
    "        schedule, --тип рабочего графика\n",
    "        employment, --тип трудоустройства\n",
    "        count(*)\n",
    "    FROM vacancies v\n",
    "    GROUP BY 1,2\n",
    "    ORDER BY 3 DESC\n",
    "'''"
   ]
  },
  {
   "cell_type": "code",
   "execution_count": 158,
   "id": "lGUVqavdo4JQ",
   "metadata": {
    "id": "lGUVqavdo4JQ"
   },
   "outputs": [
    {
     "name": "stderr",
     "output_type": "stream",
     "text": [
      "C:\\Users\\kinde\\AppData\\Local\\Temp\\ipykernel_10516\\3462316840.py:2: UserWarning:\n",
      "\n",
      "pandas only supports SQLAlchemy connectable (engine/connection) or database string URI or sqlite3 DBAPI2 connection. Other DBAPI2 objects are not tested. Please consider using SQLAlchemy.\n",
      "\n"
     ]
    },
    {
     "data": {
      "text/html": [
       "<div>\n",
       "<style scoped>\n",
       "    .dataframe tbody tr th:only-of-type {\n",
       "        vertical-align: middle;\n",
       "    }\n",
       "\n",
       "    .dataframe tbody tr th {\n",
       "        vertical-align: top;\n",
       "    }\n",
       "\n",
       "    .dataframe thead th {\n",
       "        text-align: right;\n",
       "    }\n",
       "</style>\n",
       "<table border=\"1\" class=\"dataframe\">\n",
       "  <thead>\n",
       "    <tr style=\"text-align: right;\">\n",
       "      <th></th>\n",
       "      <th>schedule</th>\n",
       "      <th>employment</th>\n",
       "      <th>count</th>\n",
       "    </tr>\n",
       "  </thead>\n",
       "  <tbody>\n",
       "    <tr>\n",
       "      <th>0</th>\n",
       "      <td>Полный день</td>\n",
       "      <td>Полная занятость</td>\n",
       "      <td>35367</td>\n",
       "    </tr>\n",
       "    <tr>\n",
       "      <th>1</th>\n",
       "      <td>Удаленная работа</td>\n",
       "      <td>Полная занятость</td>\n",
       "      <td>7802</td>\n",
       "    </tr>\n",
       "    <tr>\n",
       "      <th>2</th>\n",
       "      <td>Гибкий график</td>\n",
       "      <td>Полная занятость</td>\n",
       "      <td>1593</td>\n",
       "    </tr>\n",
       "    <tr>\n",
       "      <th>3</th>\n",
       "      <td>Удаленная работа</td>\n",
       "      <td>Частичная занятость</td>\n",
       "      <td>1312</td>\n",
       "    </tr>\n",
       "    <tr>\n",
       "      <th>4</th>\n",
       "      <td>Сменный график</td>\n",
       "      <td>Полная занятость</td>\n",
       "      <td>940</td>\n",
       "    </tr>\n",
       "    <tr>\n",
       "      <th>5</th>\n",
       "      <td>Полный день</td>\n",
       "      <td>Стажировка</td>\n",
       "      <td>569</td>\n",
       "    </tr>\n",
       "    <tr>\n",
       "      <th>6</th>\n",
       "      <td>Вахтовый метод</td>\n",
       "      <td>Полная занятость</td>\n",
       "      <td>367</td>\n",
       "    </tr>\n",
       "    <tr>\n",
       "      <th>7</th>\n",
       "      <td>Полный день</td>\n",
       "      <td>Частичная занятость</td>\n",
       "      <td>347</td>\n",
       "    </tr>\n",
       "    <tr>\n",
       "      <th>8</th>\n",
       "      <td>Гибкий график</td>\n",
       "      <td>Частичная занятость</td>\n",
       "      <td>312</td>\n",
       "    </tr>\n",
       "    <tr>\n",
       "      <th>9</th>\n",
       "      <td>Полный день</td>\n",
       "      <td>Проектная работа</td>\n",
       "      <td>141</td>\n",
       "    </tr>\n",
       "    <tr>\n",
       "      <th>10</th>\n",
       "      <td>Удаленная работа</td>\n",
       "      <td>Проектная работа</td>\n",
       "      <td>133</td>\n",
       "    </tr>\n",
       "    <tr>\n",
       "      <th>11</th>\n",
       "      <td>Гибкий график</td>\n",
       "      <td>Стажировка</td>\n",
       "      <td>116</td>\n",
       "    </tr>\n",
       "    <tr>\n",
       "      <th>12</th>\n",
       "      <td>Сменный график</td>\n",
       "      <td>Частичная занятость</td>\n",
       "      <td>101</td>\n",
       "    </tr>\n",
       "    <tr>\n",
       "      <th>13</th>\n",
       "      <td>Удаленная работа</td>\n",
       "      <td>Стажировка</td>\n",
       "      <td>64</td>\n",
       "    </tr>\n",
       "    <tr>\n",
       "      <th>14</th>\n",
       "      <td>Гибкий график</td>\n",
       "      <td>Проектная работа</td>\n",
       "      <td>18</td>\n",
       "    </tr>\n",
       "    <tr>\n",
       "      <th>15</th>\n",
       "      <td>Сменный график</td>\n",
       "      <td>Стажировка</td>\n",
       "      <td>12</td>\n",
       "    </tr>\n",
       "    <tr>\n",
       "      <th>16</th>\n",
       "      <td>Вахтовый метод</td>\n",
       "      <td>Проектная работа</td>\n",
       "      <td>2</td>\n",
       "    </tr>\n",
       "    <tr>\n",
       "      <th>17</th>\n",
       "      <td>Сменный график</td>\n",
       "      <td>Проектная работа</td>\n",
       "      <td>1</td>\n",
       "    </tr>\n",
       "  </tbody>\n",
       "</table>\n",
       "</div>"
      ],
      "text/plain": [
       "            schedule           employment  count\n",
       "0        Полный день     Полная занятость  35367\n",
       "1   Удаленная работа     Полная занятость   7802\n",
       "2      Гибкий график     Полная занятость   1593\n",
       "3   Удаленная работа  Частичная занятость   1312\n",
       "4     Сменный график     Полная занятость    940\n",
       "5        Полный день           Стажировка    569\n",
       "6     Вахтовый метод     Полная занятость    367\n",
       "7        Полный день  Частичная занятость    347\n",
       "8      Гибкий график  Частичная занятость    312\n",
       "9        Полный день     Проектная работа    141\n",
       "10  Удаленная работа     Проектная работа    133\n",
       "11     Гибкий график           Стажировка    116\n",
       "12    Сменный график  Частичная занятость    101\n",
       "13  Удаленная работа           Стажировка     64\n",
       "14     Гибкий график     Проектная работа     18\n",
       "15    Сменный график           Стажировка     12\n",
       "16    Вахтовый метод     Проектная работа      2\n",
       "17    Сменный график     Проектная работа      1"
      ]
     },
     "execution_count": 158,
     "metadata": {},
     "output_type": "execute_result"
    }
   ],
   "source": [
    "# результат запроса\n",
    "cnt_schedule_empl= pd.read_sql_query(query_4_4, connection)\n",
    "cnt_schedule_empl"
   ]
  },
  {
   "cell_type": "markdown",
   "id": "0136ffee-0ead-4a6b-b608-61d1c753a438",
   "metadata": {
    "id": "0136ffee-0ead-4a6b-b608-61d1c753a438"
   },
   "source": [
    "5. Напишите запрос, выводящий значения поля Требуемый опыт работы (experience) в порядке возрастания количества вакансий, в которых указан данный вариант опыта. "
   ]
  },
  {
   "cell_type": "code",
   "execution_count": 159,
   "id": "5b3a8e79-f7ab-4008-b767-12aea3a205ea",
   "metadata": {
    "id": "5b3a8e79-f7ab-4008-b767-12aea3a205ea"
   },
   "outputs": [],
   "source": [
    "# текст запроса\n",
    "query_4_5 = '''\n",
    "    SELECT\n",
    "        experience --требуемый опыт\n",
    "    FROM vacancies v\n",
    "    GROUP BY 1\n",
    "    ORDER BY count(id) \n",
    "'''"
   ]
  },
  {
   "cell_type": "code",
   "execution_count": 160,
   "id": "3Is64Y-hpDpq",
   "metadata": {
    "id": "3Is64Y-hpDpq"
   },
   "outputs": [
    {
     "name": "stderr",
     "output_type": "stream",
     "text": [
      "C:\\Users\\kinde\\AppData\\Local\\Temp\\ipykernel_10516\\251590073.py:2: UserWarning:\n",
      "\n",
      "pandas only supports SQLAlchemy connectable (engine/connection) or database string URI or sqlite3 DBAPI2 connection. Other DBAPI2 objects are not tested. Please consider using SQLAlchemy.\n",
      "\n"
     ]
    },
    {
     "data": {
      "text/html": [
       "<div>\n",
       "<style scoped>\n",
       "    .dataframe tbody tr th:only-of-type {\n",
       "        vertical-align: middle;\n",
       "    }\n",
       "\n",
       "    .dataframe tbody tr th {\n",
       "        vertical-align: top;\n",
       "    }\n",
       "\n",
       "    .dataframe thead th {\n",
       "        text-align: right;\n",
       "    }\n",
       "</style>\n",
       "<table border=\"1\" class=\"dataframe\">\n",
       "  <thead>\n",
       "    <tr style=\"text-align: right;\">\n",
       "      <th></th>\n",
       "      <th>experience</th>\n",
       "    </tr>\n",
       "  </thead>\n",
       "  <tbody>\n",
       "    <tr>\n",
       "      <th>0</th>\n",
       "      <td>Более 6 лет</td>\n",
       "    </tr>\n",
       "    <tr>\n",
       "      <th>1</th>\n",
       "      <td>Нет опыта</td>\n",
       "    </tr>\n",
       "    <tr>\n",
       "      <th>2</th>\n",
       "      <td>От 3 до 6 лет</td>\n",
       "    </tr>\n",
       "    <tr>\n",
       "      <th>3</th>\n",
       "      <td>От 1 года до 3 лет</td>\n",
       "    </tr>\n",
       "  </tbody>\n",
       "</table>\n",
       "</div>"
      ],
      "text/plain": [
       "           experience\n",
       "0         Более 6 лет\n",
       "1           Нет опыта\n",
       "2       От 3 до 6 лет\n",
       "3  От 1 года до 3 лет"
      ]
     },
     "execution_count": 160,
     "metadata": {},
     "output_type": "execute_result"
    }
   ],
   "source": [
    "# результат запроса\n",
    "experience= pd.read_sql_query(query_4_5, connection)\n",
    "experience"
   ]
  },
  {
   "cell_type": "markdown",
   "id": "oq2b7n1QpIka",
   "metadata": {
    "id": "oq2b7n1QpIka"
   },
   "source": [
    "***"
   ]
  },
  {
   "cell_type": "markdown",
   "id": "f6ff81c5",
   "metadata": {},
   "source": [
    "Дополнительно визуализируем данные, полученные в ходе анализа вакансий"
   ]
  },
  {
   "cell_type": "markdown",
   "id": "51c5e8b1",
   "metadata": {},
   "source": [
    "***"
   ]
  },
  {
   "cell_type": "markdown",
   "id": "8394d826",
   "metadata": {},
   "source": [
    "Построим столбчатую диаграмму распределения топ 20 вакансий по регионам:"
   ]
  },
  {
   "cell_type": "code",
   "execution_count": 161,
   "id": "40c17063",
   "metadata": {},
   "outputs": [
    {
     "data": {
      "image/png": "[encoded data removed]"
     },
     "metadata": {},
     "output_type": "display_data"
    }
   ],
   "source": [
    "#сортировка по количеству вакансий\n",
    "df_sorted = cnt_area.sort_values('cnt', ascending=False)\n",
    "\n",
    "# Топ-20 регионов по количеству вакансий\n",
    "top_20 = cnt_area.iloc[:20, 0]\n",
    "\n",
    "# меняем столбец 'area', присваивая 'Остальные' всем регионам, которые не входят в топ-20\n",
    "df_sorted['area'] = df_sorted['area'].apply(lambda x: x if x in top_20.values else 'Остальные')\n",
    "\n",
    "# Суммируем количество вакансий для группы \"Остальные\"\n",
    "df_grouped = df_sorted.groupby('area', as_index=False)['cnt'].sum()\n",
    "\n",
    "df_grouped = df_grouped.sort_values('cnt', ascending=False)\n",
    "\n",
    "# Строим график\n",
    "fig = px.bar(df_grouped,\n",
    "             x='area',\n",
    "             y='cnt',\n",
    "             title='Топ 20 регионов по числу вакансий + Остальные',\n",
    "             labels={'cnt': 'Количество вакансий', 'area': 'Регион'},\n",
    "             color='cnt',  # Цветовая шкала по количеству вакансий\n",
    "             color_continuous_scale='tropic')\n",
    "\n",
    "\n",
    "#fig.show()\n",
    "fig.show('png')"
   ]
  },
  {
   "cell_type": "markdown",
   "id": "db32075d",
   "metadata": {},
   "source": [
    "***\n",
    "Построим круговую диаграмму, показывающую долю вакансий с хотя бы одним заполненным полем ЗП:"
   ]
  },
  {
   "cell_type": "code",
   "execution_count": 162,
   "id": "31da6c1b",
   "metadata": {},
   "outputs": [
    {
     "name": "stderr",
     "output_type": "stream",
     "text": [
      "C:\\Users\\kinde\\AppData\\Local\\Temp\\ipykernel_10516\\1506396350.py:14: UserWarning:\n",
      "\n",
      "pandas only supports SQLAlchemy connectable (engine/connection) or database string URI or sqlite3 DBAPI2 connection. Other DBAPI2 objects are not tested. Please consider using SQLAlchemy.\n",
      "\n"
     ]
    },
    {
     "data": {
      "image/png": "[encoded data removed]"
     },
     "metadata": {},
     "output_type": "display_data"
    }
   ],
   "source": [
    "# запрос к БД \n",
    "query_4_2_2 = f'''\n",
    "    SELECT \n",
    "        COUNT(*) count, 'Указана граница' salary_boundary\n",
    "    FROM vacancies\n",
    "    WHERE salary_from IS NOT NULL OR salary_to IS NOT NULL -- фильтруем вакансии, где хотя бы одна из границ ЗП не нулевая\n",
    "    UNION ALL\n",
    "    SELECT \n",
    "        COUNT(*), 'Граница не указана'\n",
    "    FROM vacancies\n",
    "    WHERE salary_from IS NULL AND salary_to IS NULL -- вакансии с не указанными границами ЗП\n",
    "'''\n",
    "\n",
    "df = pd.read_sql_query(query_4_2_2, connection)\n",
    "\n",
    "# Построение круговой диаграммы\n",
    "\n",
    "fig = px.pie(\n",
    "    df,\n",
    "    names='salary_boundary',  # Названия категорий\n",
    "    values='count',           # Значения\n",
    "    title='Доля вакансий с указанием ЗП',\n",
    "    color_discrete_sequence=['#C46C98', '#2A9D8F']  # Цвета\n",
    ")\n",
    "\n",
    "#fig.show()\n",
    "fig.show('png')\n"
   ]
  },
  {
   "cell_type": "markdown",
   "id": "b2fd7f77",
   "metadata": {},
   "source": [
    "***\n",
    "Построим график распределения предлагаемой ЗП:"
   ]
  },
  {
   "cell_type": "code",
   "execution_count": 163,
   "id": "9820df00",
   "metadata": {},
   "outputs": [
    {
     "name": "stderr",
     "output_type": "stream",
     "text": [
      "C:\\Users\\kinde\\AppData\\Local\\Temp\\ipykernel_10516\\336890956.py:10: UserWarning:\n",
      "\n",
      "pandas only supports SQLAlchemy connectable (engine/connection) or database string URI or sqlite3 DBAPI2 connection. Other DBAPI2 objects are not tested. Please consider using SQLAlchemy.\n",
      "\n"
     ]
    },
    {
     "data": {
      "text/html": [
       "<div>\n",
       "<style scoped>\n",
       "    .dataframe tbody tr th:only-of-type {\n",
       "        vertical-align: middle;\n",
       "    }\n",
       "\n",
       "    .dataframe tbody tr th {\n",
       "        vertical-align: top;\n",
       "    }\n",
       "\n",
       "    .dataframe thead th {\n",
       "        text-align: right;\n",
       "    }\n",
       "</style>\n",
       "<table border=\"1\" class=\"dataframe\">\n",
       "  <thead>\n",
       "    <tr style=\"text-align: right;\">\n",
       "      <th></th>\n",
       "      <th>Нижняя граница</th>\n",
       "      <th>Верхняя граница</th>\n",
       "    </tr>\n",
       "  </thead>\n",
       "  <tbody>\n",
       "    <tr>\n",
       "      <th>0</th>\n",
       "      <td>64000.0</td>\n",
       "      <td>NaN</td>\n",
       "    </tr>\n",
       "    <tr>\n",
       "      <th>1</th>\n",
       "      <td>15000.0</td>\n",
       "      <td>NaN</td>\n",
       "    </tr>\n",
       "    <tr>\n",
       "      <th>2</th>\n",
       "      <td>40000.0</td>\n",
       "      <td>60000.0</td>\n",
       "    </tr>\n",
       "    <tr>\n",
       "      <th>3</th>\n",
       "      <td>50000.0</td>\n",
       "      <td>NaN</td>\n",
       "    </tr>\n",
       "    <tr>\n",
       "      <th>4</th>\n",
       "      <td>150000.0</td>\n",
       "      <td>NaN</td>\n",
       "    </tr>\n",
       "    <tr>\n",
       "      <th>...</th>\n",
       "      <td>...</td>\n",
       "      <td>...</td>\n",
       "    </tr>\n",
       "    <tr>\n",
       "      <th>24068</th>\n",
       "      <td>50000.0</td>\n",
       "      <td>NaN</td>\n",
       "    </tr>\n",
       "    <tr>\n",
       "      <th>24069</th>\n",
       "      <td>102500.0</td>\n",
       "      <td>NaN</td>\n",
       "    </tr>\n",
       "    <tr>\n",
       "      <th>24070</th>\n",
       "      <td>40000.0</td>\n",
       "      <td>78000.0</td>\n",
       "    </tr>\n",
       "    <tr>\n",
       "      <th>24071</th>\n",
       "      <td>60000.0</td>\n",
       "      <td>NaN</td>\n",
       "    </tr>\n",
       "    <tr>\n",
       "      <th>24072</th>\n",
       "      <td>146456.0</td>\n",
       "      <td>244094.0</td>\n",
       "    </tr>\n",
       "  </tbody>\n",
       "</table>\n",
       "<p>24073 rows × 2 columns</p>\n",
       "</div>"
      ],
      "text/plain": [
       "       Нижняя граница  Верхняя граница\n",
       "0             64000.0              NaN\n",
       "1             15000.0              NaN\n",
       "2             40000.0          60000.0\n",
       "3             50000.0              NaN\n",
       "4            150000.0              NaN\n",
       "...               ...              ...\n",
       "24068         50000.0              NaN\n",
       "24069        102500.0              NaN\n",
       "24070         40000.0          78000.0\n",
       "24071         60000.0              NaN\n",
       "24072        146456.0         244094.0\n",
       "\n",
       "[24073 rows x 2 columns]"
      ]
     },
     "metadata": {},
     "output_type": "display_data"
    },
    {
     "data": {
      "image/png": "[encoded data removed]"
     },
     "metadata": {},
     "output_type": "display_data"
    }
   ],
   "source": [
    "# запрос, выводящий указаные нижние и верхние границы предлагаемой заработной платы\n",
    "query_4_3_2 = '''\n",
    "    SELECT\n",
    "        v.salary_from \"Нижняя граница\",\n",
    "        v.salary_to \"Верхняя граница\"\n",
    "    FROM vacancies v\n",
    "    WHERE salary_from IS NOT NULL OR salary_to IS NOT NULL -- фильтруются вакансии, где не нулевая хотя бы одна из границ\n",
    "'''\n",
    "\n",
    "df_salary = pd.read_sql_query(query_4_3_2, connection)\n",
    "display(df_salary)\n",
    "\n",
    "# построение коробчатой диаграммы\n",
    "\n",
    "fig = px.box(\n",
    "    df_salary, \n",
    "    x=[\"Нижняя граница\", \"Верхняя граница\"], \n",
    "    title=\"Распределение предлагаемой зарплаты по верхней и нижней границам\",\n",
    "    labels={'variable': 'Предлагаемая зп', 'value': 'Значение'},\n",
    "    color_discrete_sequence=['#C46C98'])\n",
    "\n",
    "#fig.show()\n",
    "fig.show('png')\n"
   ]
  },
  {
   "cell_type": "markdown",
   "id": "ff4e8a43",
   "metadata": {},
   "source": [
    "***\n",
    "Построим график распределения количество вакансий в зависимости от типа трудоустройства и графика работы:"
   ]
  },
  {
   "cell_type": "code",
   "execution_count": 164,
   "id": "76216fce",
   "metadata": {},
   "outputs": [
    {
     "data": {
      "image/png": "[encoded data removed]"
     },
     "metadata": {},
     "output_type": "display_data"
    }
   ],
   "source": [
    "# сводная таблица \n",
    "pivot_tbl = cnt_schedule_empl.pivot_table(\n",
    "    index='schedule',\n",
    "    columns='employment',\n",
    "    values='count',\n",
    "    fill_value=0\n",
    ")\n",
    "\n",
    "# тепловая карта зависимости количества вакансий от типа трудоустройства и графика работы\n",
    "fig = px.imshow(\n",
    "    pivot_tbl, \n",
    "    color_continuous_scale=\"tropic\", \n",
    "    labels={\"x\": \"Тип трудоустройства\", \"y\": \"График работы\", \"color\": \"Количество\"},\n",
    "    title=\"Тепловая карта количества вакансий по графику и типу трудоустройства\")\n",
    "\n",
    "# Добавление аннотаций на клетки\n",
    "fig.update_traces(\n",
    "    text=pivot_tbl.values, \n",
    "    texttemplate=\"%{text}\", \n",
    "    textfont_size=15, \n",
    "    colorbar_tickvals=[0, 5, 10, 15], \n",
    "    colorbar_ticktext=[\"0\", \"5\", \"10\", \"15\"]\n",
    ")\n",
    "\n",
    "#fig.show()\n",
    "fig.show('png')\n"
   ]
  },
  {
   "cell_type": "markdown",
   "id": "3907aeb2",
   "metadata": {},
   "source": [
    "***\n",
    "Построим график распределения количества вакансий в зависимости от требуемого опыта"
   ]
  },
  {
   "cell_type": "code",
   "execution_count": 165,
   "id": "df63db05",
   "metadata": {},
   "outputs": [
    {
     "name": "stderr",
     "output_type": "stream",
     "text": [
      "C:\\Users\\kinde\\AppData\\Local\\Temp\\ipykernel_10516\\3753463655.py:12: UserWarning:\n",
      "\n",
      "pandas only supports SQLAlchemy connectable (engine/connection) or database string URI or sqlite3 DBAPI2 connection. Other DBAPI2 objects are not tested. Please consider using SQLAlchemy.\n",
      "\n"
     ]
    },
    {
     "data": {
      "image/png": "[encoded data removed]"
     },
     "metadata": {},
     "output_type": "display_data"
    }
   ],
   "source": [
    "# запрос, выводящий значения требуемого опыта работы и количество вакансий\n",
    "query_4_5_2= '''\n",
    "    SELECT\n",
    "        experience, --требуемый опыт\n",
    "        COUNT(*)\n",
    "    FROM vacancies v\n",
    "    GROUP BY 1\n",
    "    ORDER BY count(id)\n",
    "'''\n",
    "\n",
    "# Результат запроса\n",
    "experience_cnt = pd.read_sql_query(query_4_5_2, connection)\n",
    "\n",
    "# столбчатая диаграмма\n",
    "fig = px.bar(\n",
    "    experience_cnt,\n",
    "    x='experience',\n",
    "    y='count',\n",
    "    title='Распределение количества вакансий в зависимости от требуемого опыта',\n",
    "    labels={\"experience\": \"Требуемый опыт работы\", \"count\": \"Количество вакансий\"},\n",
    "    color_discrete_sequence=['#C46C98']\n",
    ")\n",
    "\n",
    "#fig.show()\n",
    "fig.show('png')"
   ]
  },
  {
   "cell_type": "markdown",
   "id": "c4eac85b",
   "metadata": {},
   "source": [
    "***"
   ]
  },
  {
   "cell_type": "markdown",
   "id": "46e8e3b0",
   "metadata": {},
   "source": [
    "Выводы по детальному анализу вакансий\n",
    "\n",
    "Проанализировав данные о доступных вакансиях можно сделать следующие выводы:\n",
    "\n",
    "1. Лидерами по количеству вакансий являются Москва(5333) и Санкт-Петербург(2851)\n",
    "\n",
    "2. 60% вакансий(29787) размещены в 20 регионах, 40% (19410) во всех остальных регионах. Такая статистика свидетельствует о неравномерном распределении вакансий по регионам\n",
    "\n",
    "Это показывает дисбаланс в экономическом развитии и распределении рабочих мест между регионами и может быть сигналом для работодателей, государства и инвесторов о том, что стоит уделять больше внимания поддержке менее активных регионов, чтобы выравнивать экономические и социальные условия.\n",
    "\n",
    "3. Чуть больше, чем у половины вакансий(51,1%) не указана граница заработной платы. Отсутствие указания границ заработной платы в большинстве вакансий свидетельствует о недостаточной прозрачности и зрелости рынка труда. Это может создавать неудобства для соискателей, которым важна предсказуемость условий работы, и затруднять сравнение предложений между работодателями.\n",
    "\n",
    "4. В большинстве вакансий, где указана зарплата, средний диапазон зарплат находится в интервале от 60 тыс. до 150 тыс. руб. по верхней границе и от 35 тыс. до 90 тыс. руб. по нижней. Средние значения по этим границам составляют соответственно 80 тыс. руб. и 50 тыс. руб. Это показывает, что большая часть вакансий ориентирована на зарплаты в пределах среднерыночных значений, что отражает общие условия рынка труда.\n",
    "\n",
    "При этом наблюдаются значительные аномалии с высокими значениями, где верхняя граница зарплаты превышает 300 тыс. руб., а в некоторых случаях достигает 1 млн. руб. Аналогично, нижняя граница в некоторых вакансиях также может достигать 1 млн. руб., что требует дополнительного анализа и объяснения. Такие аномалии могут свидетельствовать о редких, высококвалифицированных или руководящих позициях, которые имеют значительно более высокий уровень компенсации.\n",
    "\n",
    "5. - Основная форма трудоустройства - полная занятость и полный рабочий день(35367 вакансий).\n",
    "   - Удаленная работа активно используется как для полной занятости (7802 вакансии), так и для частичной (1312 вакансий), что подтверждает адаптацию рынка труда к новым реалиям.\n",
    "   - Гибкий график востребован для полной(1593) и частичной(312) занятости и стажировок(116).\n",
    "   - Проектная работа и стажировки занимают значительно меньшую долю рынка, что может отражать специфику экономики и предпочтения компаний в плане долгосрочного сотрудничества.\n",
    "   - Сменный график и вахтовый метод остаются узкоспециализированными и востребованы только в отдельных отраслях.\n",
    "\n",
    "6.  - 42,7% вакансий предлагают соискателям с опытом работы от 1 года до 3 лет(26152 вакансии), что свидетельствует о том, что работодатели предпочитают специалистов с базовым опытом, которых можно быстро адаптировать к работе, \n",
    "\n",
    "    - 23,7 % вакансий(14511) с опытом работы от 3 до 6 лет, это вакансии для специалистов среднего уровня, способных решать более сложные задачи, руководить небольшими проектами или командами. Указывает на высокий спрос на квалифицированных профессионалов, особенно в технических и управленческих областях.\n",
    "\n",
    "    - 11,7%(7197) вакансий без опыта, вероятно, связаны со стажировками, работой начального уровня (junior) или рутинными задачами, не требующими специфических навыков. Подчеркивает стремление работодателей привлекать молодых специалистов и развивать их в компании.\n",
    "    \n",
    "    - 2,2%(1337) вакансий с опытом более 6 лет. Такие вакансии чаще всего редки из-за высокой стоимости сотрудников с большим опытом и специфики таких ролей."
   ]
  },
  {
   "cell_type": "markdown",
   "id": "00f2bacc",
   "metadata": {},
   "source": [
    "***"
   ]
  },
  {
   "cell_type": "markdown",
   "id": "7ea20ab6-04a7-40a0-adec-443a0e5a42c3",
   "metadata": {
    "id": "7ea20ab6-04a7-40a0-adec-443a0e5a42c3"
   },
   "source": [
    "# Юнит 5. Анализ работодателей"
   ]
  },
  {
   "cell_type": "markdown",
   "id": "968aed80-74ef-4ffb-b5bf-c65b84e9caea",
   "metadata": {
    "id": "968aed80-74ef-4ffb-b5bf-c65b84e9caea"
   },
   "source": [
    "1. Напишите запрос, который позволит узнать, какие работодатели находятся на первом и пятом месте по количеству вакансий."
   ]
  },
  {
   "cell_type": "code",
   "execution_count": 166,
   "id": "f2d62796-d400-4ec1-a675-88112739a50e",
   "metadata": {
    "id": "f2d62796-d400-4ec1-a675-88112739a50e"
   },
   "outputs": [],
   "source": [
    "# текст запроса\n",
    "query_5_1 = '''\n",
    "    SELECT\n",
    "        e.name\n",
    "    FROM employers as e\n",
    "    JOIN vacancies as v ON e.id = v.employer_id\n",
    "    GROUP BY 1\n",
    "    ORDER BY count(v.id) DESC\n",
    "    LIMIT 5\n",
    "'''"
   ]
  },
  {
   "cell_type": "code",
   "execution_count": 167,
   "id": "64tOMkAxqkQk",
   "metadata": {
    "id": "64tOMkAxqkQk"
   },
   "outputs": [
    {
     "name": "stderr",
     "output_type": "stream",
     "text": [
      "C:\\Users\\kinde\\AppData\\Local\\Temp\\ipykernel_10516\\2805327350.py:2: UserWarning:\n",
      "\n",
      "pandas only supports SQLAlchemy connectable (engine/connection) or database string URI or sqlite3 DBAPI2 connection. Other DBAPI2 objects are not tested. Please consider using SQLAlchemy.\n",
      "\n"
     ]
    },
    {
     "data": {
      "text/html": [
       "<div>\n",
       "<style scoped>\n",
       "    .dataframe tbody tr th:only-of-type {\n",
       "        vertical-align: middle;\n",
       "    }\n",
       "\n",
       "    .dataframe tbody tr th {\n",
       "        vertical-align: top;\n",
       "    }\n",
       "\n",
       "    .dataframe thead th {\n",
       "        text-align: right;\n",
       "    }\n",
       "</style>\n",
       "<table border=\"1\" class=\"dataframe\">\n",
       "  <thead>\n",
       "    <tr style=\"text-align: right;\">\n",
       "      <th></th>\n",
       "      <th>name</th>\n",
       "    </tr>\n",
       "  </thead>\n",
       "  <tbody>\n",
       "    <tr>\n",
       "      <th>0</th>\n",
       "      <td>Яндекс</td>\n",
       "    </tr>\n",
       "    <tr>\n",
       "      <th>1</th>\n",
       "      <td>Ростелеком</td>\n",
       "    </tr>\n",
       "    <tr>\n",
       "      <th>2</th>\n",
       "      <td>Тинькофф</td>\n",
       "    </tr>\n",
       "    <tr>\n",
       "      <th>3</th>\n",
       "      <td>СБЕР</td>\n",
       "    </tr>\n",
       "    <tr>\n",
       "      <th>4</th>\n",
       "      <td>Газпром нефть</td>\n",
       "    </tr>\n",
       "  </tbody>\n",
       "</table>\n",
       "</div>"
      ],
      "text/plain": [
       "            name\n",
       "0         Яндекс\n",
       "1     Ростелеком\n",
       "2       Тинькофф\n",
       "3           СБЕР\n",
       "4  Газпром нефть"
      ]
     },
     "execution_count": 167,
     "metadata": {},
     "output_type": "execute_result"
    }
   ],
   "source": [
    "# результат запроса\n",
    "name_employers= pd.read_sql_query(query_5_1, connection)\n",
    "name_employers"
   ]
  },
  {
   "cell_type": "markdown",
   "id": "68377cfc-b378-43dc-ab7d-1195abf2c515",
   "metadata": {
    "id": "68377cfc-b378-43dc-ab7d-1195abf2c515"
   },
   "source": [
    "2. Напишите запрос, который для каждого региона выведет количество работодателей и вакансий в нём.\n",
    "Среди регионов, в которых нет вакансий, найдите тот, в котором наибольшее количество работодателей.\n"
   ]
  },
  {
   "cell_type": "code",
   "execution_count": 168,
   "id": "dd7df27a-e3e8-412e-a21a-5d389b71e891",
   "metadata": {
    "id": "dd7df27a-e3e8-412e-a21a-5d389b71e891"
   },
   "outputs": [],
   "source": [
    "# текст запроса\n",
    "query_5_2 = '''\n",
    "    SELECT\n",
    "        a.name area, -- название региона\n",
    "        COUNT(DISTINCT e.id) employers, -- количество уникальных работодателей\n",
    "        COUNT(DISTINCT v.id) vacancies -- количество уникальных вакансий\n",
    "    FROM areas a\n",
    "    LEFT JOIN vacancies v ON a.id = v.area_id -- Левое соединение с таблицей вакансий\n",
    "    LEFT JOIN employers e ON a.id = e.area  --Левое соединение с таблицей работодателей\n",
    "    WHERE v.area_id IS NULL -- только регионы в которых нет вакансий\n",
    "    GROUP BY 1\n",
    "    ORDER BY 2 DESC \n",
    "'''"
   ]
  },
  {
   "cell_type": "code",
   "execution_count": 169,
   "id": "x1ikWbydrbf6",
   "metadata": {
    "id": "x1ikWbydrbf6"
   },
   "outputs": [
    {
     "name": "stderr",
     "output_type": "stream",
     "text": [
      "C:\\Users\\kinde\\AppData\\Local\\Temp\\ipykernel_10516\\3223853171.py:2: UserWarning:\n",
      "\n",
      "pandas only supports SQLAlchemy connectable (engine/connection) or database string URI or sqlite3 DBAPI2 connection. Other DBAPI2 objects are not tested. Please consider using SQLAlchemy.\n",
      "\n"
     ]
    },
    {
     "data": {
      "text/html": [
       "<div>\n",
       "<style scoped>\n",
       "    .dataframe tbody tr th:only-of-type {\n",
       "        vertical-align: middle;\n",
       "    }\n",
       "\n",
       "    .dataframe tbody tr th {\n",
       "        vertical-align: top;\n",
       "    }\n",
       "\n",
       "    .dataframe thead th {\n",
       "        text-align: right;\n",
       "    }\n",
       "</style>\n",
       "<table border=\"1\" class=\"dataframe\">\n",
       "  <thead>\n",
       "    <tr style=\"text-align: right;\">\n",
       "      <th></th>\n",
       "      <th>area</th>\n",
       "      <th>employers</th>\n",
       "      <th>vacancies</th>\n",
       "    </tr>\n",
       "  </thead>\n",
       "  <tbody>\n",
       "    <tr>\n",
       "      <th>0</th>\n",
       "      <td>Россия</td>\n",
       "      <td>410</td>\n",
       "      <td>0</td>\n",
       "    </tr>\n",
       "    <tr>\n",
       "      <th>1</th>\n",
       "      <td>Казахстан</td>\n",
       "      <td>207</td>\n",
       "      <td>0</td>\n",
       "    </tr>\n",
       "    <tr>\n",
       "      <th>2</th>\n",
       "      <td>Московская область</td>\n",
       "      <td>75</td>\n",
       "      <td>0</td>\n",
       "    </tr>\n",
       "    <tr>\n",
       "      <th>3</th>\n",
       "      <td>Краснодарский край</td>\n",
       "      <td>19</td>\n",
       "      <td>0</td>\n",
       "    </tr>\n",
       "    <tr>\n",
       "      <th>4</th>\n",
       "      <td>Беларусь</td>\n",
       "      <td>18</td>\n",
       "      <td>0</td>\n",
       "    </tr>\n",
       "    <tr>\n",
       "      <th>...</th>\n",
       "      <td>...</td>\n",
       "      <td>...</td>\n",
       "      <td>...</td>\n",
       "    </tr>\n",
       "    <tr>\n",
       "      <th>588</th>\n",
       "      <td>Кувандык</td>\n",
       "      <td>0</td>\n",
       "      <td>0</td>\n",
       "    </tr>\n",
       "    <tr>\n",
       "      <th>589</th>\n",
       "      <td>Куйбышев</td>\n",
       "      <td>0</td>\n",
       "      <td>0</td>\n",
       "    </tr>\n",
       "    <tr>\n",
       "      <th>590</th>\n",
       "      <td>Куйбышево (Ростовская область)</td>\n",
       "      <td>0</td>\n",
       "      <td>0</td>\n",
       "    </tr>\n",
       "    <tr>\n",
       "      <th>591</th>\n",
       "      <td>Култаево</td>\n",
       "      <td>0</td>\n",
       "      <td>0</td>\n",
       "    </tr>\n",
       "    <tr>\n",
       "      <th>592</th>\n",
       "      <td>Кульсары</td>\n",
       "      <td>0</td>\n",
       "      <td>0</td>\n",
       "    </tr>\n",
       "  </tbody>\n",
       "</table>\n",
       "<p>593 rows × 3 columns</p>\n",
       "</div>"
      ],
      "text/plain": [
       "                               area  employers  vacancies\n",
       "0                            Россия        410          0\n",
       "1                         Казахстан        207          0\n",
       "2                Московская область         75          0\n",
       "3                Краснодарский край         19          0\n",
       "4                          Беларусь         18          0\n",
       "..                              ...        ...        ...\n",
       "588                        Кувандык          0          0\n",
       "589                        Куйбышев          0          0\n",
       "590  Куйбышево (Ростовская область)          0          0\n",
       "591                        Култаево          0          0\n",
       "592                        Кульсары          0          0\n",
       "\n",
       "[593 rows x 3 columns]"
      ]
     },
     "execution_count": 169,
     "metadata": {},
     "output_type": "execute_result"
    }
   ],
   "source": [
    "# результат запроса\n",
    "area_company_vacation= pd.read_sql_query(query_5_2, connection)\n",
    "area_company_vacation"
   ]
  },
  {
   "cell_type": "markdown",
   "id": "f2fe0acb-ab1a-4e15-9326-2560e22d73c1",
   "metadata": {
    "id": "f2fe0acb-ab1a-4e15-9326-2560e22d73c1"
   },
   "source": [
    "3. Для каждого работодателя посчитайте количество регионов, в которых он публикует свои вакансии. Отсортируйте результат по убыванию количества.\n"
   ]
  },
  {
   "cell_type": "code",
   "execution_count": 170,
   "id": "6271f8ad-bd2e-4196-ae4a-5b39c4c1010e",
   "metadata": {
    "id": "6271f8ad-bd2e-4196-ae4a-5b39c4c1010e"
   },
   "outputs": [],
   "source": [
    "# текст запроса\n",
    "query_5_3 = '''\n",
    "    SELECT\n",
    "        e.name company, -- название работодателя\n",
    "        COUNT(DISTINCT v.area_id) cnt_areas -- количество уникальных регионов\n",
    "    FROM employers e\n",
    "    JOIN vacancies v ON e.id = v.employer_id\n",
    "    GROUP BY 1\n",
    "    ORDER BY 2 DESC\n",
    "'''"
   ]
  },
  {
   "cell_type": "code",
   "execution_count": 171,
   "id": "1EIvX3HasH4F",
   "metadata": {
    "id": "1EIvX3HasH4F"
   },
   "outputs": [
    {
     "name": "stderr",
     "output_type": "stream",
     "text": [
      "C:\\Users\\kinde\\AppData\\Local\\Temp\\ipykernel_10516\\2865226826.py:2: UserWarning:\n",
      "\n",
      "pandas only supports SQLAlchemy connectable (engine/connection) or database string URI or sqlite3 DBAPI2 connection. Other DBAPI2 objects are not tested. Please consider using SQLAlchemy.\n",
      "\n"
     ]
    },
    {
     "data": {
      "text/html": [
       "<div>\n",
       "<style scoped>\n",
       "    .dataframe tbody tr th:only-of-type {\n",
       "        vertical-align: middle;\n",
       "    }\n",
       "\n",
       "    .dataframe tbody tr th {\n",
       "        vertical-align: top;\n",
       "    }\n",
       "\n",
       "    .dataframe thead th {\n",
       "        text-align: right;\n",
       "    }\n",
       "</style>\n",
       "<table border=\"1\" class=\"dataframe\">\n",
       "  <thead>\n",
       "    <tr style=\"text-align: right;\">\n",
       "      <th></th>\n",
       "      <th>company</th>\n",
       "      <th>cnt_areas</th>\n",
       "    </tr>\n",
       "  </thead>\n",
       "  <tbody>\n",
       "    <tr>\n",
       "      <th>0</th>\n",
       "      <td>Яндекс</td>\n",
       "      <td>181</td>\n",
       "    </tr>\n",
       "    <tr>\n",
       "      <th>1</th>\n",
       "      <td>Ростелеком</td>\n",
       "      <td>152</td>\n",
       "    </tr>\n",
       "    <tr>\n",
       "      <th>2</th>\n",
       "      <td>Спецремонт</td>\n",
       "      <td>116</td>\n",
       "    </tr>\n",
       "    <tr>\n",
       "      <th>3</th>\n",
       "      <td>Поляков Денис Иванович</td>\n",
       "      <td>88</td>\n",
       "    </tr>\n",
       "    <tr>\n",
       "      <th>4</th>\n",
       "      <td>ООО ЕФИН</td>\n",
       "      <td>71</td>\n",
       "    </tr>\n",
       "    <tr>\n",
       "      <th>...</th>\n",
       "      <td>...</td>\n",
       "      <td>...</td>\n",
       "    </tr>\n",
       "    <tr>\n",
       "      <th>14761</th>\n",
       "      <td>UniSol</td>\n",
       "      <td>1</td>\n",
       "    </tr>\n",
       "    <tr>\n",
       "      <th>14762</th>\n",
       "      <td>UNISTORY LLC</td>\n",
       "      <td>1</td>\n",
       "    </tr>\n",
       "    <tr>\n",
       "      <th>14763</th>\n",
       "      <td>UNIT6</td>\n",
       "      <td>1</td>\n",
       "    </tr>\n",
       "    <tr>\n",
       "      <th>14764</th>\n",
       "      <td>United Distribution</td>\n",
       "      <td>1</td>\n",
       "    </tr>\n",
       "    <tr>\n",
       "      <th>14765</th>\n",
       "      <td>UNITEL LLC</td>\n",
       "      <td>1</td>\n",
       "    </tr>\n",
       "  </tbody>\n",
       "</table>\n",
       "<p>14766 rows × 2 columns</p>\n",
       "</div>"
      ],
      "text/plain": [
       "                      company  cnt_areas\n",
       "0                      Яндекс        181\n",
       "1                  Ростелеком        152\n",
       "2                  Спецремонт        116\n",
       "3      Поляков Денис Иванович         88\n",
       "4                   ООО ЕФИН          71\n",
       "...                       ...        ...\n",
       "14761                  UniSol          1\n",
       "14762            UNISTORY LLC          1\n",
       "14763                   UNIT6          1\n",
       "14764     United Distribution          1\n",
       "14765              UNITEL LLC          1\n",
       "\n",
       "[14766 rows x 2 columns]"
      ]
     },
     "execution_count": 171,
     "metadata": {},
     "output_type": "execute_result"
    }
   ],
   "source": [
    "# результат запроса\n",
    "cnt_area= pd.read_sql_query(query_5_3, connection)\n",
    "cnt_area"
   ]
  },
  {
   "cell_type": "markdown",
   "id": "eab2206d-d95b-468b-8e5f-34381abf0ce7",
   "metadata": {
    "id": "eab2206d-d95b-468b-8e5f-34381abf0ce7"
   },
   "source": [
    "4. Напишите запрос для подсчёта количества работодателей, у которых не указана сфера деятельности. "
   ]
  },
  {
   "cell_type": "code",
   "execution_count": 172,
   "id": "80defb23-bfb1-4a18-8be6-bf36aa7165d5",
   "metadata": {
    "id": "80defb23-bfb1-4a18-8be6-bf36aa7165d5"
   },
   "outputs": [],
   "source": [
    "# текст запроса\n",
    "query_5_4 = '''\n",
    "    SELECT\n",
    "        COUNT(*) cnt_companies\n",
    "    FROM employers e\n",
    "    LEFT JOIN employers_industries ei ON e.id = ei.employer_id\n",
    "    WHERE ei.industry_id IS NULL\n",
    "'''"
   ]
  },
  {
   "cell_type": "code",
   "execution_count": 173,
   "id": "Dp_yCx6ysQSu",
   "metadata": {
    "id": "Dp_yCx6ysQSu"
   },
   "outputs": [
    {
     "name": "stderr",
     "output_type": "stream",
     "text": [
      "C:\\Users\\kinde\\AppData\\Local\\Temp\\ipykernel_10516\\935181353.py:2: UserWarning:\n",
      "\n",
      "pandas only supports SQLAlchemy connectable (engine/connection) or database string URI or sqlite3 DBAPI2 connection. Other DBAPI2 objects are not tested. Please consider using SQLAlchemy.\n",
      "\n"
     ]
    },
    {
     "data": {
      "text/html": [
       "<div>\n",
       "<style scoped>\n",
       "    .dataframe tbody tr th:only-of-type {\n",
       "        vertical-align: middle;\n",
       "    }\n",
       "\n",
       "    .dataframe tbody tr th {\n",
       "        vertical-align: top;\n",
       "    }\n",
       "\n",
       "    .dataframe thead th {\n",
       "        text-align: right;\n",
       "    }\n",
       "</style>\n",
       "<table border=\"1\" class=\"dataframe\">\n",
       "  <thead>\n",
       "    <tr style=\"text-align: right;\">\n",
       "      <th></th>\n",
       "      <th>cnt_companies</th>\n",
       "    </tr>\n",
       "  </thead>\n",
       "  <tbody>\n",
       "    <tr>\n",
       "      <th>0</th>\n",
       "      <td>8419</td>\n",
       "    </tr>\n",
       "  </tbody>\n",
       "</table>\n",
       "</div>"
      ],
      "text/plain": [
       "   cnt_companies\n",
       "0           8419"
      ]
     },
     "execution_count": 173,
     "metadata": {},
     "output_type": "execute_result"
    }
   ],
   "source": [
    "# результат запроса\n",
    "industry_is_null = pd.read_sql_query(query_5_4, connection)\n",
    "industry_is_null"
   ]
  },
  {
   "cell_type": "markdown",
   "id": "0112af31-f6b0-4e3b-82ab-71296e752e5e",
   "metadata": {
    "id": "0112af31-f6b0-4e3b-82ab-71296e752e5e"
   },
   "source": [
    "5. Напишите запрос, чтобы узнать название компании, находящейся на третьем месте в алфавитном списке (по названию) компаний, у которых указано четыре сферы деятельности. "
   ]
  },
  {
   "cell_type": "code",
   "execution_count": 174,
   "id": "973b0cfc-a972-470a-8b4a-68744ef220c4",
   "metadata": {
    "id": "973b0cfc-a972-470a-8b4a-68744ef220c4"
   },
   "outputs": [],
   "source": [
    "# текст запроса\n",
    "query_5_5 = '''\n",
    "    SELECT\n",
    "        e.name\n",
    "    FROM employers e\n",
    "    JOIN employers_industries ei ON e.id = ei.employer_id\n",
    "    GROUP BY 1\n",
    "    HAVING COUNT(ei.industry_id) = 4 --фильтр работодателей с 4 сферами деятельнсти\n",
    "    ORDER BY 1\n",
    "    OFFSET 2  -- пропустить 2 первые строки\n",
    "    LIMIT 1 -- оставить только одну строку\n",
    "'''"
   ]
  },
  {
   "cell_type": "code",
   "execution_count": 175,
   "id": "xsPtpp8EsaED",
   "metadata": {
    "id": "xsPtpp8EsaED"
   },
   "outputs": [
    {
     "name": "stderr",
     "output_type": "stream",
     "text": [
      "C:\\Users\\kinde\\AppData\\Local\\Temp\\ipykernel_10516\\4092212400.py:2: UserWarning:\n",
      "\n",
      "pandas only supports SQLAlchemy connectable (engine/connection) or database string URI or sqlite3 DBAPI2 connection. Other DBAPI2 objects are not tested. Please consider using SQLAlchemy.\n",
      "\n"
     ]
    },
    {
     "data": {
      "text/html": [
       "<div>\n",
       "<style scoped>\n",
       "    .dataframe tbody tr th:only-of-type {\n",
       "        vertical-align: middle;\n",
       "    }\n",
       "\n",
       "    .dataframe tbody tr th {\n",
       "        vertical-align: top;\n",
       "    }\n",
       "\n",
       "    .dataframe thead th {\n",
       "        text-align: right;\n",
       "    }\n",
       "</style>\n",
       "<table border=\"1\" class=\"dataframe\">\n",
       "  <thead>\n",
       "    <tr style=\"text-align: right;\">\n",
       "      <th></th>\n",
       "      <th>name</th>\n",
       "    </tr>\n",
       "  </thead>\n",
       "  <tbody>\n",
       "    <tr>\n",
       "      <th>0</th>\n",
       "      <td>2ГИС</td>\n",
       "    </tr>\n",
       "  </tbody>\n",
       "</table>\n",
       "</div>"
      ],
      "text/plain": [
       "   name\n",
       "0  2ГИС"
      ]
     },
     "execution_count": 175,
     "metadata": {},
     "output_type": "execute_result"
    }
   ],
   "source": [
    "# результат запроса\n",
    "e_name = pd.read_sql_query(query_5_5, connection)\n",
    "e_name"
   ]
  },
  {
   "cell_type": "markdown",
   "id": "3bfcfdaf-755d-4d2b-8ed8-326201dc07ab",
   "metadata": {
    "id": "3bfcfdaf-755d-4d2b-8ed8-326201dc07ab"
   },
   "source": [
    "6. С помощью запроса выясните, у какого количества работодателей в качестве сферы деятельности указана Разработка программного обеспечения.\n"
   ]
  },
  {
   "cell_type": "code",
   "execution_count": 176,
   "id": "ad3f270f-2991-47eb-929b-e8f88a55b0d1",
   "metadata": {
    "id": "ad3f270f-2991-47eb-929b-e8f88a55b0d1"
   },
   "outputs": [],
   "source": [
    "# текст запроса\n",
    "query_5_6 = f'''\n",
    "    SELECT\n",
    "        COUNT(DISTINCT ei.employer_id) cnt \n",
    "    FROM employers_industries ei\n",
    "    JOIN industries i ON ei.industry_id = i.id\n",
    "    WHERE i.name = 'Разработка программного обеспечения' --фильтрация по названию сферы деятельности\n",
    "\n",
    "'''"
   ]
  },
  {
   "cell_type": "code",
   "execution_count": 177,
   "id": "H72qxWM0shPR",
   "metadata": {
    "id": "H72qxWM0shPR"
   },
   "outputs": [
    {
     "name": "stderr",
     "output_type": "stream",
     "text": [
      "C:\\Users\\kinde\\AppData\\Local\\Temp\\ipykernel_10516\\821628714.py:2: UserWarning:\n",
      "\n",
      "pandas only supports SQLAlchemy connectable (engine/connection) or database string URI or sqlite3 DBAPI2 connection. Other DBAPI2 objects are not tested. Please consider using SQLAlchemy.\n",
      "\n"
     ]
    },
    {
     "data": {
      "text/html": [
       "<div>\n",
       "<style scoped>\n",
       "    .dataframe tbody tr th:only-of-type {\n",
       "        vertical-align: middle;\n",
       "    }\n",
       "\n",
       "    .dataframe tbody tr th {\n",
       "        vertical-align: top;\n",
       "    }\n",
       "\n",
       "    .dataframe thead th {\n",
       "        text-align: right;\n",
       "    }\n",
       "</style>\n",
       "<table border=\"1\" class=\"dataframe\">\n",
       "  <thead>\n",
       "    <tr style=\"text-align: right;\">\n",
       "      <th></th>\n",
       "      <th>cnt</th>\n",
       "    </tr>\n",
       "  </thead>\n",
       "  <tbody>\n",
       "    <tr>\n",
       "      <th>0</th>\n",
       "      <td>3553</td>\n",
       "    </tr>\n",
       "  </tbody>\n",
       "</table>\n",
       "</div>"
      ],
      "text/plain": [
       "    cnt\n",
       "0  3553"
      ]
     },
     "execution_count": 177,
     "metadata": {},
     "output_type": "execute_result"
    }
   ],
   "source": [
    "# результат запроса\n",
    "df = pd.read_sql_query(query_5_6, connection)\n",
    "df"
   ]
  },
  {
   "cell_type": "markdown",
   "id": "7b02bb86-0546-40fb-94a4-242f050a5c57",
   "metadata": {
    "id": "7b02bb86-0546-40fb-94a4-242f050a5c57"
   },
   "source": [
    "7. Для компании «Яндекс» выведите список регионов-миллионников, в которых представлены вакансии компании, вместе с количеством вакансий в этих регионах. Также добавьте строку Total с общим количеством вакансий компании. Результат отсортируйте по возрастанию количества.\n",
    "\n",
    "Список городов-милионников надо взять [отсюда](https://ru.wikipedia.org/wiki/%D0%93%D0%BE%D1%80%D0%BE%D0%B4%D0%B0-%D0%BC%D0%B8%D0%BB%D0%BB%D0%B8%D0%BE%D0%BD%D0%B5%D1%80%D1%8B_%D0%A0%D0%BE%D1%81%D1%81%D0%B8%D0%B8). \n",
    " "
   ]
  },
  {
   "cell_type": "code",
   "execution_count": 178,
   "id": "ZdfrL6gIs1Pn",
   "metadata": {
    "id": "ZdfrL6gIs1Pn"
   },
   "outputs": [
    {
     "name": "stdout",
     "output_type": "stream",
     "text": [
      "Города-миллионники России:\n",
      "Москва\n",
      "Санкт-Петербург\n",
      "Новосибирск\n",
      "Екатеринбург\n",
      "Казань\n",
      "Красноярск\n",
      "Нижний Новгород\n",
      "Челябинск\n",
      "Уфа\n",
      "Самара\n",
      "Ростов-на-Дону\n",
      "Краснодар\n",
      "Омск\n",
      "Воронеж\n",
      "Пермь\n",
      "Волгоград\n"
     ]
    }
   ],
   "source": [
    "# код для получения списка городов-милионников\n",
    "\n",
    "# URL страницы\n",
    "url = \"https://ru.wikipedia.org/wiki/Города-миллионеры_России\"\n",
    "\n",
    "# Загрузка страницы\n",
    "response = requests.get(url)\n",
    "soup = BeautifulSoup(response.text, \"html.parser\")\n",
    "\n",
    "# Поиск таблицы с городами\n",
    "table = soup.find(\"table\", {\"class\": \"standard\"})\n",
    "\n",
    "# Сбор данных о городах\n",
    "cities = []\n",
    "rows = table.find_all(\"tr\")[1:]  # Пропускаем заголовок таблицы\n",
    "for row in rows:\n",
    "    cols = row.find_all(\"td\")\n",
    "    if cols:\n",
    "        city = cols[1].get_text(strip=True)  # Название города\n",
    "        cities.append(city)\n",
    "million_cities = tuple(cities)\n",
    "\n",
    "# Вывод списка городов\n",
    "print(\"Города-миллионники России:\")\n",
    "for city in cities:\n",
    "    print(city)"
   ]
  },
  {
   "cell_type": "code",
   "execution_count": 179,
   "id": "5a0e32a4-e68a-4365-8a39-2fe24c542c36",
   "metadata": {
    "id": "5a0e32a4-e68a-4365-8a39-2fe24c542c36"
   },
   "outputs": [],
   "source": [
    "# текст запроса\n",
    "query_5_7 = f'''\n",
    "    WITH Region_vacancies AS ( -- создаем временную таблицу, содержащую количество вакансий для каждой области, где работает 'Яндекс'\n",
    "        SELECT\n",
    "            a.name, -- название региона\n",
    "            COUNT(v.id)::int cnt -- количество вакансий\n",
    "        FROM vacancies v\n",
    "        JOIN areas a ON a.id = v.area_id\n",
    "        JOIN employers e ON e.id = v.employer_id\n",
    "        WHERE e.name = 'Яндекс'  -- фильтрация по названию компании и вхождения региона в список городов-миллионников\n",
    "            AND a.name IN {million_cities}\n",
    "        GROUP BY a.name\n",
    "        ORDER BY 2 DESC\n",
    "    ),\n",
    "    Total_cnt AS ( -- временная таблица для подсчета общего количества вакансий Яндекса в городах-миллионниках\n",
    "        SELECT\n",
    "            'total',\n",
    "            sum(cnt)::int cnt\n",
    "        FROM Region_vacancies\n",
    "    )\n",
    "    SELECT * -- берем все строки из Region_vacancies и соединяем с total из Total_cnt\n",
    "    FROM Region_vacancies\n",
    "    UNION ALL\n",
    "    SELECT *\n",
    "    FROM Total_cnt\n",
    "        \n",
    "'''"
   ]
  },
  {
   "cell_type": "code",
   "execution_count": 180,
   "id": "ttPhiO1rsvPq",
   "metadata": {
    "id": "ttPhiO1rsvPq"
   },
   "outputs": [
    {
     "name": "stderr",
     "output_type": "stream",
     "text": [
      "C:\\Users\\kinde\\AppData\\Local\\Temp\\ipykernel_10516\\3176448752.py:2: UserWarning:\n",
      "\n",
      "pandas only supports SQLAlchemy connectable (engine/connection) or database string URI or sqlite3 DBAPI2 connection. Other DBAPI2 objects are not tested. Please consider using SQLAlchemy.\n",
      "\n"
     ]
    },
    {
     "data": {
      "text/html": [
       "<div>\n",
       "<style scoped>\n",
       "    .dataframe tbody tr th:only-of-type {\n",
       "        vertical-align: middle;\n",
       "    }\n",
       "\n",
       "    .dataframe tbody tr th {\n",
       "        vertical-align: top;\n",
       "    }\n",
       "\n",
       "    .dataframe thead th {\n",
       "        text-align: right;\n",
       "    }\n",
       "</style>\n",
       "<table border=\"1\" class=\"dataframe\">\n",
       "  <thead>\n",
       "    <tr style=\"text-align: right;\">\n",
       "      <th></th>\n",
       "      <th>name</th>\n",
       "      <th>cnt</th>\n",
       "    </tr>\n",
       "  </thead>\n",
       "  <tbody>\n",
       "    <tr>\n",
       "      <th>0</th>\n",
       "      <td>Москва</td>\n",
       "      <td>54</td>\n",
       "    </tr>\n",
       "    <tr>\n",
       "      <th>1</th>\n",
       "      <td>Санкт-Петербург</td>\n",
       "      <td>42</td>\n",
       "    </tr>\n",
       "    <tr>\n",
       "      <th>2</th>\n",
       "      <td>Екатеринбург</td>\n",
       "      <td>39</td>\n",
       "    </tr>\n",
       "    <tr>\n",
       "      <th>3</th>\n",
       "      <td>Нижний Новгород</td>\n",
       "      <td>36</td>\n",
       "    </tr>\n",
       "    <tr>\n",
       "      <th>4</th>\n",
       "      <td>Новосибирск</td>\n",
       "      <td>35</td>\n",
       "    </tr>\n",
       "    <tr>\n",
       "      <th>5</th>\n",
       "      <td>Воронеж</td>\n",
       "      <td>32</td>\n",
       "    </tr>\n",
       "    <tr>\n",
       "      <th>6</th>\n",
       "      <td>Краснодар</td>\n",
       "      <td>30</td>\n",
       "    </tr>\n",
       "    <tr>\n",
       "      <th>7</th>\n",
       "      <td>Самара</td>\n",
       "      <td>26</td>\n",
       "    </tr>\n",
       "    <tr>\n",
       "      <th>8</th>\n",
       "      <td>Уфа</td>\n",
       "      <td>26</td>\n",
       "    </tr>\n",
       "    <tr>\n",
       "      <th>9</th>\n",
       "      <td>Казань</td>\n",
       "      <td>25</td>\n",
       "    </tr>\n",
       "    <tr>\n",
       "      <th>10</th>\n",
       "      <td>Пермь</td>\n",
       "      <td>25</td>\n",
       "    </tr>\n",
       "    <tr>\n",
       "      <th>11</th>\n",
       "      <td>Ростов-на-Дону</td>\n",
       "      <td>25</td>\n",
       "    </tr>\n",
       "    <tr>\n",
       "      <th>12</th>\n",
       "      <td>Волгоград</td>\n",
       "      <td>24</td>\n",
       "    </tr>\n",
       "    <tr>\n",
       "      <th>13</th>\n",
       "      <td>Красноярск</td>\n",
       "      <td>23</td>\n",
       "    </tr>\n",
       "    <tr>\n",
       "      <th>14</th>\n",
       "      <td>Челябинск</td>\n",
       "      <td>22</td>\n",
       "    </tr>\n",
       "    <tr>\n",
       "      <th>15</th>\n",
       "      <td>Омск</td>\n",
       "      <td>21</td>\n",
       "    </tr>\n",
       "    <tr>\n",
       "      <th>16</th>\n",
       "      <td>total</td>\n",
       "      <td>485</td>\n",
       "    </tr>\n",
       "  </tbody>\n",
       "</table>\n",
       "</div>"
      ],
      "text/plain": [
       "               name  cnt\n",
       "0            Москва   54\n",
       "1   Санкт-Петербург   42\n",
       "2      Екатеринбург   39\n",
       "3   Нижний Новгород   36\n",
       "4       Новосибирск   35\n",
       "5           Воронеж   32\n",
       "6         Краснодар   30\n",
       "7            Самара   26\n",
       "8               Уфа   26\n",
       "9            Казань   25\n",
       "10            Пермь   25\n",
       "11   Ростов-на-Дону   25\n",
       "12        Волгоград   24\n",
       "13       Красноярск   23\n",
       "14        Челябинск   22\n",
       "15             Омск   21\n",
       "16            total  485"
      ]
     },
     "execution_count": 180,
     "metadata": {},
     "output_type": "execute_result"
    }
   ],
   "source": [
    "# результат запроса\n",
    "ya_vacation_million_city = pd.read_sql_query(query_5_7, connection)\n",
    "ya_vacation_million_city"
   ]
  },
  {
   "cell_type": "markdown",
   "id": "04966e40-3bc3-4dc8-9ba2-e80580ce3abc",
   "metadata": {
    "id": "04966e40-3bc3-4dc8-9ba2-e80580ce3abc"
   },
   "source": [
    "***"
   ]
  },
  {
   "cell_type": "markdown",
   "id": "0bcab6dc",
   "metadata": {},
   "source": [
    "Дополнительно визуализируем данные по анализу работодателей"
   ]
  },
  {
   "cell_type": "markdown",
   "id": "c6ea77ba",
   "metadata": {},
   "source": [
    "***"
   ]
  },
  {
   "cell_type": "markdown",
   "id": "0ff24fe3",
   "metadata": {},
   "source": [
    "Построим диаграмму ТОП-10 работодателей по количеству вакансий"
   ]
  },
  {
   "cell_type": "code",
   "execution_count": 181,
   "id": "df927c14",
   "metadata": {},
   "outputs": [
    {
     "name": "stderr",
     "output_type": "stream",
     "text": [
      "C:\\Users\\kinde\\AppData\\Local\\Temp\\ipykernel_10516\\3900120506.py:14: UserWarning:\n",
      "\n",
      "pandas only supports SQLAlchemy connectable (engine/connection) or database string URI or sqlite3 DBAPI2 connection. Other DBAPI2 objects are not tested. Please consider using SQLAlchemy.\n",
      "\n"
     ]
    },
    {
     "data": {
      "image/png": "[encoded data removed]"
     },
     "metadata": {},
     "output_type": "display_data"
    }
   ],
   "source": [
    "# Запрос, выводящий топ 10 работодателей по количеству вакансий\n",
    "query_5_1_2 = '''\n",
    "    SELECT\n",
    "        e.name \"Название работодателя\",\n",
    "        count(v.id) \"Количество вакансий\"\n",
    "    FROM employers e\n",
    "    JOIN vacancies v ON e.id = v.employer_id\n",
    "    GROUP BY 1\n",
    "    ORDER BY count(v.id) DESC\n",
    "    LIMIT 10 \n",
    "'''\n",
    "\n",
    "# разельтат запроса\n",
    "df_top_10 = pd.read_sql_query(query_5_1_2, connection)\n",
    "# display(df_top_10)\n",
    "\n",
    "# столбчатая диаграмма топ 10 работодателей\n",
    "fig = px.bar(\n",
    "    df_top_10,\n",
    "    x='Название работодателя',\n",
    "    y='Количество вакансий',\n",
    "    title='ТОП-10 работодателей по количеству вакансий',\n",
    "    color_discrete_sequence=['#C46C98']\n",
    "    )\n",
    "\n",
    "#fig.show()\n",
    "fig.show('png')\n"
   ]
  },
  {
   "cell_type": "markdown",
   "id": "4277b908",
   "metadata": {},
   "source": [
    "***"
   ]
  },
  {
   "cell_type": "markdown",
   "id": "d5833c36",
   "metadata": {},
   "source": [
    "Построим график распределения количества работодателей и вакансий по регионам"
   ]
  },
  {
   "cell_type": "code",
   "execution_count": 182,
   "id": "2e05f3be",
   "metadata": {},
   "outputs": [
    {
     "name": "stderr",
     "output_type": "stream",
     "text": [
      "C:\\Users\\kinde\\AppData\\Local\\Temp\\ipykernel_10516\\123528707.py:23: UserWarning:\n",
      "\n",
      "pandas only supports SQLAlchemy connectable (engine/connection) or database string URI or sqlite3 DBAPI2 connection. Other DBAPI2 objects are not tested. Please consider using SQLAlchemy.\n",
      "\n",
      "C:\\Users\\kinde\\AppData\\Local\\Temp\\ipykernel_10516\\123528707.py:24: UserWarning:\n",
      "\n",
      "pandas only supports SQLAlchemy connectable (engine/connection) or database string URI or sqlite3 DBAPI2 connection. Other DBAPI2 objects are not tested. Please consider using SQLAlchemy.\n",
      "\n"
     ]
    },
    {
     "data": {
      "image/png": "[encoded data removed]"
     },
     "metadata": {},
     "output_type": "display_data"
    }
   ],
   "source": [
    "#запросы, показывающие количество работодателей и вакансий для каждого региона\n",
    "\n",
    "query_5_2_2= '''\n",
    "    SELECT\n",
    "        a.name area,\n",
    "        COUNT(DISTINCT e.id) employers\n",
    "    FROM areas a\n",
    "    JOIN employers e ON a.id = e.area\n",
    "    GROUP BY 1\n",
    "    ORDER BY 2 DESC\n",
    "'''\n",
    "query_5_2_3= '''\n",
    "    SELECT\n",
    "        a.name area,\n",
    "        COUNT(distinct v.id) vacancies\n",
    "    FROM areas a\n",
    "    JOIN vacancies v ON a.id = v.area_id\n",
    "    GROUP BY 1\n",
    "    ORDER BY 2 DESC\n",
    "'''\n",
    "\n",
    "# результаты запросов\n",
    "df_5_2_2 = pd.read_sql_query(query_5_2_2, connection)\n",
    "df_5_2_3 = pd.read_sql_query(query_5_2_3, connection)\n",
    "\n",
    "# Объединяем два DataFrame по регионам\n",
    "result = pd.merge(df_5_2_2, df_5_2_3, on='area', how='inner')\n",
    "\n",
    "# Сортируем по количеству работодателей и вакансий\n",
    "result = result.sort_values(['employers', 'vacancies'], ascending=False)\n",
    "\n",
    "# Топ-20 регионов по количеству работодателей\n",
    "top_20_employers = result.nlargest(20, 'employers')\n",
    "\n",
    "\n",
    "# Строим график\n",
    "fig = go.Figure()\n",
    "\n",
    "# Столбчатая диаграмма для работодателей\n",
    "fig.add_trace(go.Bar(\n",
    "    x=top_20_employers['area'], \n",
    "    y=top_20_employers['employers'], \n",
    "    name='Работодатели',\n",
    "    marker_color='#C46C98'\n",
    "))\n",
    "\n",
    "# Столбчатая диаграмма для вакансий (с использованием второй оси Y)\n",
    "fig.add_trace(go.Bar(\n",
    "    x=top_20_employers['area'], \n",
    "    y=top_20_employers['vacancies'], \n",
    "    name='Вакансии',\n",
    "    marker_color='#2A9D8F'\n",
    "))\n",
    "\n",
    "# Настройки графика\n",
    "fig.update_layout(\n",
    "    barmode='group',  # Столбцы будут стоять рядом\n",
    "    title='Топ-20 регионов по количеству работодателей и вакансий',\n",
    "    xaxis_title=\"Регион\",\n",
    "    yaxis_title=\"Количество работодателей и вакансий\",\n",
    "    legend_title=\"Тип данных\",\n",
    "    legend=dict(x=0.8, y=0.9)\n",
    ")\n",
    "\n",
    "#fig.show()\n",
    "fig.show('png')\n"
   ]
  },
  {
   "cell_type": "markdown",
   "id": "10a116a7",
   "metadata": {},
   "source": [
    "***"
   ]
  },
  {
   "cell_type": "markdown",
   "id": "c74c6773",
   "metadata": {},
   "source": [
    "Построим график ТОП-10 работодателей по количеству регионов, в которых они публикует свои вакансии"
   ]
  },
  {
   "cell_type": "code",
   "execution_count": 183,
   "id": "afa84e3b",
   "metadata": {},
   "outputs": [
    {
     "data": {
      "image/png": "[encoded data removed]"
     },
     "metadata": {},
     "output_type": "display_data"
    }
   ],
   "source": [
    "# Топ-10 работодателей по количеству регионов\n",
    "top_10_area = cnt_area.nlargest(10, 'cnt_areas')\n",
    "\n",
    "# Столбчатая диаграмма\n",
    "fig = px.bar(\n",
    "    top_10_area,\n",
    "    x='company',\n",
    "    y='cnt_areas',\n",
    "    title='ТОП-10 работодателей по количеству регионов размещения вакансий',\n",
    "    labels={'company': 'Название компании', 'cnt_areas': 'Количество регионов'},\n",
    "    color_discrete_sequence=['#C46C98']\n",
    ")\n",
    "\n",
    "#fig.show()\n",
    "fig.show('png')"
   ]
  },
  {
   "cell_type": "markdown",
   "id": "fb78f140",
   "metadata": {},
   "source": [
    "***"
   ]
  },
  {
   "cell_type": "markdown",
   "id": "d3fd2e24",
   "metadata": {},
   "source": [
    "Построим диаграмму распределения работодателей по количеству сфер деятельности"
   ]
  },
  {
   "cell_type": "code",
   "execution_count": 184,
   "id": "ba2d7ee3",
   "metadata": {},
   "outputs": [
    {
     "name": "stderr",
     "output_type": "stream",
     "text": [
      "C:\\Users\\kinde\\AppData\\Local\\Temp\\ipykernel_10516\\2906769427.py:18: UserWarning:\n",
      "\n",
      "pandas only supports SQLAlchemy connectable (engine/connection) or database string URI or sqlite3 DBAPI2 connection. Other DBAPI2 objects are not tested. Please consider using SQLAlchemy.\n",
      "\n"
     ]
    },
    {
     "data": {
      "image/png": "[encoded data removed]"
     },
     "metadata": {},
     "output_type": "display_data"
    }
   ],
   "source": [
    "# Запрос, показывающий количество работодателей распределенных по количеству сфер деятельности\n",
    "query_5_5_2 = '''\n",
    "    SELECT --группирует количество работодателей по количеству сфер деятельности\n",
    "        cnt_industries,\n",
    "        COUNT(employer_id) cnt_employers\n",
    "    FROM (\n",
    "        SELECT -- подзапрос подсчитывает количество сфер деятельности (cnt_industries) для каждого работодателя (employer_id)\n",
    "            e.id employer_id,\n",
    "            COUNT(ei.industry_id) cnt_industries\n",
    "        FROM employers e\n",
    "        JOIN employers_industries ei ON e.id = ei.employer_id\n",
    "        GROUP BY e.id\n",
    "    ) subquery\n",
    "    GROUP BY cnt_industries\n",
    "    ORDER BY cnt_industries\n",
    "'''\n",
    "\n",
    "df = pd.read_sql_query(query_5_5_2, connection)\n",
    "# display(df)\n",
    "\n",
    "# Столбчатая диаграмма\n",
    "fig = px.bar(\n",
    "    df,\n",
    "    x='cnt_industries',\n",
    "    y='cnt_employers',\n",
    "    title='Распределение работодателей по количеству сфер деятельности',\n",
    "    labels={'cnt_industries': 'Количество сфер деятельности', 'cnt_employers': 'Количество работодателей'},\n",
    "    color_discrete_sequence=['#C46C98']\n",
    ")\n",
    "\n",
    "#fig.show()\n",
    "fig.show('png')\n"
   ]
  },
  {
   "cell_type": "markdown",
   "id": "43ee1584",
   "metadata": {},
   "source": [
    "***"
   ]
  },
  {
   "cell_type": "markdown",
   "id": "a8c6d778",
   "metadata": {},
   "source": [
    "Построим диаграмму распределения работодателей по 10 топ сферам деятельности\n",
    "\n"
   ]
  },
  {
   "cell_type": "code",
   "execution_count": 185,
   "id": "6d43f646",
   "metadata": {},
   "outputs": [
    {
     "name": "stderr",
     "output_type": "stream",
     "text": [
      "C:\\Users\\kinde\\AppData\\Local\\Temp\\ipykernel_10516\\3946333044.py:15: UserWarning:\n",
      "\n",
      "pandas only supports SQLAlchemy connectable (engine/connection) or database string URI or sqlite3 DBAPI2 connection. Other DBAPI2 objects are not tested. Please consider using SQLAlchemy.\n",
      "\n"
     ]
    },
    {
     "data": {
      "image/png": "[encoded data removed]"
     },
     "metadata": {},
     "output_type": "display_data"
    }
   ],
   "source": [
    "# Запрос, показывающий сколько работодателей указано в каждой сфере деятельности\n",
    "query_5_6_2 = '''\n",
    "    SELECT\n",
    "        i.name \"Сфера деятельности\",\n",
    "        COUNT(DISTINCT e.id) \"Количество работодателей\"\n",
    "    FROM employers_industries ei\n",
    "    JOIN employers e ON ei.employer_id = e.id\n",
    "    JOIN industries i ON ei.industry_id = i.id\n",
    "    GROUP BY 1\n",
    "    ORDER BY 2 DESC\n",
    "    LIMIT 10\n",
    "'''\n",
    "\n",
    "# Результат запроса\n",
    "df = pd.read_sql_query(query_5_6_2, connection)\n",
    "# display(df)\n",
    "\n",
    "# Столбчатая диаграмма\n",
    "fig = px.bar(\n",
    "    df,\n",
    "    x='Сфера деятельности',\n",
    "    y='Количество работодателей',\n",
    "    title='Распределение работодателей по ТОП-10 сфер деятельности',\n",
    "    color_discrete_sequence=['#C46C98'],\n",
    "    \n",
    ")\n",
    "# настройка графика\n",
    "fig.update_layout(\n",
    "    xaxis_tickangle=20,\n",
    "    xaxis=dict(\n",
    "        tickfont=dict(size=8)\n",
    "    )\n",
    ")\n",
    "\n",
    "#fig.show()\n",
    "fig.show(renderer='png', width=1000, height=700)"
   ]
  },
  {
   "cell_type": "markdown",
   "id": "864af566",
   "metadata": {},
   "source": [
    "***"
   ]
  },
  {
   "cell_type": "markdown",
   "id": "b2521e3e",
   "metadata": {},
   "source": [
    "Проанализировав данные о работодателях можно сделать следующие выводы:\n",
    "\n",
    "1. ТОП 10 работодателей по количеству вакансий: \n",
    "   - Доминирующая позиция в списке работодателей с большим отрывом от остальных - Яндекс(1933 вакансии). Указывает на активное развитие компании, вероятно, в IT, аналитике, маркетинге и разработке. Подчеркивает значительный спрос на специалистов в сфере технологий и цифровых решений.\n",
    "   - Ростелеком(491), как крупная телекоммуникационная компания, вероятно, ищет сотрудников в области IT, технической поддержки, продаж и администрирования.\n",
    "   - Тинькофф(444): банк с сильной IT-ориентацией, активно нанимает специалистов в сфере разработки, клиентского сервиса и аналитики.\n",
    "   - СБЕР (428 вакансий): вероятно, вакансии связаны с финансовыми услугами, IT, аналитикой и операционной деятельностью.\n",
    "   - Газпром нефть(331): вакансии, вероятно, охватывают технические, инженерные и управленческие роли, а также цифровизацию и автоматизацию.\n",
    "   - ИК СИБИНТЕК(327): IT-компания, входящая в состав группы \"Газпром\".\n",
    "   - МТС(292): Активный найм, вероятно, связан с цифровыми сервисами, технической поддержкой и клиентским обслуживанием.\n",
    "   - DataArt(247): международная IT-компания, ориентированная на разработку программного обеспечения.\n",
    "   - Совкомбанк Технологии (204 вакансии): IT-подразделение Совкомбанка.\n",
    "   - Первый Бит(176): Компания, предоставляющая IT-решения для бизнеса.\n",
    "\n",
    "   Из этих данных видно, что большинство компаний в списке активно развивают IT-направление, что отражает цифровизацию экономики.\n",
    "\n",
    "2.  Лидеры по количеству вакансий:\n",
    "\n",
    "   - Москва (5333 вакансии, 5864 работодателей). Конкуренция среди работодателей здесь выше, чем в других регионах. Указывает на развитую экономику столицы и высокую потребность в кадрах.\n",
    "   - Санкт-Петербург (2851 вакансий, 2217 работодателей). Вакансий больше, чем работодателей, что может говорить о мультивакансийности компаний.\n",
    "   - Новосибирск (2006 вакансий, 573 работодателей). Третий по числу вакансий, несмотря на меньшее количество работодателей. Указывает на высокую среднюю потребность в кадрах на одного работодателя.\n",
    "\n",
    "3. Лидеры по числу регионов присутствия:\n",
    "\n",
    "   - Яндекс(181) - отражает масштаб деятельности компании и её фокус на цифровых сервисах, которые легко масштабируются и востребованы по всей стране.\n",
    "   - Ростелеком(152) - широкое присутствие обусловлено масштабом компании как национального оператора связи.\n",
    "   - Спецремонт(116) - может быть связано с необходимостью работы на местах, близко к клиентам.\n",
    "\n",
    "4. Большинство компаний(6452) работают в одной отрасли, скорее всего, обладают высокой специализацией и фокусируются на конкретной области деятельности. Значительное количество компаний(3639) работает в двух отраслях, что может указывать на их стремление к диверсификации и расширению спектра предоставляемых услуг. Количество компаний, работающих в 3х отраслях достигает 2607. 4 отрасли имеют 11138 работодателей, в 5 и более отраслях работает минимальное число работодателей - 1246.\n",
    "\n",
    "5.  Компании, занимающиеся разработкой програмного обеспечения(3553), системной интеграции(2993) и интернет-компании(1675) занимают лидирующие позиции, что отражает тренды цифровой трансформации и развитие технологий."
   ]
  },
  {
   "cell_type": "markdown",
   "id": "b1ef156a-efcb-49ce-bb23-90763e7f35b2",
   "metadata": {
    "id": "b1ef156a-efcb-49ce-bb23-90763e7f35b2",
    "tags": []
   },
   "source": [
    "# Юнит 6. Предметный анализ"
   ]
  },
  {
   "cell_type": "markdown",
   "id": "b9cd50a0-992d-4988-8463-2b2b1c4629b4",
   "metadata": {
    "id": "b9cd50a0-992d-4988-8463-2b2b1c4629b4"
   },
   "source": [
    "1. Сколько вакансий имеет отношение к данным?\n",
    "\n",
    "Считаем, что вакансия имеет отношение к данным, если в её названии содержатся слова 'data' или 'данн'.\n",
    "\n",
    "*Подсказка: Обратите внимание, что названия вакансий могут быть написаны в любом регистре.* \n"
   ]
  },
  {
   "cell_type": "code",
   "execution_count": 186,
   "id": "54ab0e50-c0f1-47cc-a54b-bc5c8bc363f9",
   "metadata": {
    "id": "54ab0e50-c0f1-47cc-a54b-bc5c8bc363f9"
   },
   "outputs": [],
   "source": [
    "# текст запроса\n",
    "query_6_1 = f'''\n",
    "    SELECT\n",
    "        COUNT(v.id)\n",
    "    FROM vacancies v\n",
    "    WHERE v.name ILIKE '%data%'  -- фильтрация по наличию слов в названии\n",
    "        OR v.name ILIKE '%данн%'\n",
    "'''"
   ]
  },
  {
   "cell_type": "code",
   "execution_count": 187,
   "id": "9F1meAqsuUjd",
   "metadata": {
    "id": "9F1meAqsuUjd"
   },
   "outputs": [
    {
     "name": "stderr",
     "output_type": "stream",
     "text": [
      "C:\\Users\\kinde\\AppData\\Local\\Temp\\ipykernel_10516\\3560139186.py:2: UserWarning:\n",
      "\n",
      "pandas only supports SQLAlchemy connectable (engine/connection) or database string URI or sqlite3 DBAPI2 connection. Other DBAPI2 objects are not tested. Please consider using SQLAlchemy.\n",
      "\n"
     ]
    },
    {
     "data": {
      "text/html": [
       "<div>\n",
       "<style scoped>\n",
       "    .dataframe tbody tr th:only-of-type {\n",
       "        vertical-align: middle;\n",
       "    }\n",
       "\n",
       "    .dataframe tbody tr th {\n",
       "        vertical-align: top;\n",
       "    }\n",
       "\n",
       "    .dataframe thead th {\n",
       "        text-align: right;\n",
       "    }\n",
       "</style>\n",
       "<table border=\"1\" class=\"dataframe\">\n",
       "  <thead>\n",
       "    <tr style=\"text-align: right;\">\n",
       "      <th></th>\n",
       "      <th>count</th>\n",
       "    </tr>\n",
       "  </thead>\n",
       "  <tbody>\n",
       "    <tr>\n",
       "      <th>0</th>\n",
       "      <td>1771</td>\n",
       "    </tr>\n",
       "  </tbody>\n",
       "</table>\n",
       "</div>"
      ],
      "text/plain": [
       "   count\n",
       "0   1771"
      ]
     },
     "execution_count": 187,
     "metadata": {},
     "output_type": "execute_result"
    }
   ],
   "source": [
    "# результат запроса\n",
    "data_vacation = pd.read_sql_query(query_6_1, connection)\n",
    "data_vacation"
   ]
  },
  {
   "cell_type": "markdown",
   "id": "4dea20cb-a36b-474a-a0b9-e08e8e3857a5",
   "metadata": {
    "id": "4dea20cb-a36b-474a-a0b9-e08e8e3857a5"
   },
   "source": [
    "2. Сколько есть подходящих вакансий для начинающего дата-сайентиста? \n",
    "Будем считать вакансиями для дата-сайентистов такие, в названии которых есть хотя бы одно из следующих сочетаний:\n",
    "* 'data scientist'\n",
    "* 'data science'\n",
    "* 'исследователь данных'\n",
    "* 'ML' (здесь не нужно брать вакансии по HTML)\n",
    "* 'machine learning'\n",
    "* 'машинн%обучен%'\n",
    "\n",
    "** В следующих заданиях мы продолжим работать с вакансиями по этому условию.*\n",
    "\n",
    "Считаем вакансиями для специалистов уровня Junior следующие:\n",
    "* в названии есть слово 'junior' *или*\n",
    "* требуемый опыт — Нет опыта *или*\n",
    "* тип трудоустройства — Стажировка.\n",
    " "
   ]
  },
  {
   "cell_type": "code",
   "execution_count": 188,
   "id": "9c61b3c0-bb66-46c9-ae1e-81d3f5752b4a",
   "metadata": {
    "id": "9c61b3c0-bb66-46c9-ae1e-81d3f5752b4a"
   },
   "outputs": [],
   "source": [
    "# текст запроса\n",
    "query_6_2 = f'''\n",
    "    SELECT\n",
    "        COUNT(v.name)\n",
    "    FROM vacancies v\n",
    "    WHERE  -- выбираем только вакансии по DS для начинающих специалистов\n",
    "    (\n",
    "        (v.name ILIKE '%data scientist%') OR (v.name ILIKE '%data science%') OR (v.name ILIKE '%исследователь данных%')\n",
    "        OR ((v.name ILIKE '%ML%') AND (v.name NOT ILIKE '%HTML%'))\n",
    "        OR (v.name ILIKE '%machine learning%')\n",
    "        OR (v.name ILIKE '%машинн%обучен%')\n",
    "        AND (v.key_skills IS NOT NULL)\n",
    "    )\n",
    "        AND (v.name ILIKE '%junior%' \n",
    "            OR v.experience ILIKE '%Нет опыта%'\n",
    "            OR v.employment ILIKE '%Стажировка%')\n",
    "'''\n",
    "        "
   ]
  },
  {
   "cell_type": "code",
   "execution_count": 189,
   "id": "ZNM-LLYuu1dj",
   "metadata": {
    "id": "ZNM-LLYuu1dj"
   },
   "outputs": [
    {
     "name": "stderr",
     "output_type": "stream",
     "text": [
      "C:\\Users\\kinde\\AppData\\Local\\Temp\\ipykernel_10516\\1920038825.py:2: UserWarning:\n",
      "\n",
      "pandas only supports SQLAlchemy connectable (engine/connection) or database string URI or sqlite3 DBAPI2 connection. Other DBAPI2 objects are not tested. Please consider using SQLAlchemy.\n",
      "\n"
     ]
    },
    {
     "data": {
      "text/html": [
       "<div>\n",
       "<style scoped>\n",
       "    .dataframe tbody tr th:only-of-type {\n",
       "        vertical-align: middle;\n",
       "    }\n",
       "\n",
       "    .dataframe tbody tr th {\n",
       "        vertical-align: top;\n",
       "    }\n",
       "\n",
       "    .dataframe thead th {\n",
       "        text-align: right;\n",
       "    }\n",
       "</style>\n",
       "<table border=\"1\" class=\"dataframe\">\n",
       "  <thead>\n",
       "    <tr style=\"text-align: right;\">\n",
       "      <th></th>\n",
       "      <th>count</th>\n",
       "    </tr>\n",
       "  </thead>\n",
       "  <tbody>\n",
       "    <tr>\n",
       "      <th>0</th>\n",
       "      <td>51</td>\n",
       "    </tr>\n",
       "  </tbody>\n",
       "</table>\n",
       "</div>"
      ],
      "text/plain": [
       "   count\n",
       "0     51"
      ]
     },
     "execution_count": 189,
     "metadata": {},
     "output_type": "execute_result"
    }
   ],
   "source": [
    "# результат запроса\n",
    "cnt_junior = pd.read_sql_query(query_6_2, connection)\n",
    "cnt_junior"
   ]
  },
  {
   "cell_type": "markdown",
   "id": "eedceb80-c5ca-480e-b27a-278dfb8b4438",
   "metadata": {
    "id": "eedceb80-c5ca-480e-b27a-278dfb8b4438"
   },
   "source": [
    "3. Сколько есть вакансий для DS, в которых в качестве ключевого навыка указан SQL или postgres?\n",
    "\n",
    "** Критерии для отнесения вакансии к DS указаны в предыдущем задании.*"
   ]
  },
  {
   "cell_type": "code",
   "execution_count": 190,
   "id": "69621713-0cc5-4f1b-a1d7-bb144fa6148c",
   "metadata": {
    "id": "69621713-0cc5-4f1b-a1d7-bb144fa6148c"
   },
   "outputs": [],
   "source": [
    "# текст запроса\n",
    "query_6_3 = f'''\n",
    "    SELECT\n",
    "        COUNT(v.name)\n",
    "    FROM vacancies v\n",
    "    WHERE  -- только вакансии по DS у которых указаны ключи SQL или postgres\n",
    "    (\n",
    "        (v.name ILIKE '%data scientist%') OR (v.name ILIKE '%data science%') OR (v.name ILIKE '%исследователь данных%')\n",
    "        OR ((v.name ILIKE '%ML%') AND (v.name NOT ILIKE '%HTML%'))\n",
    "        OR (v.name ILIKE '%machine learning%')\n",
    "        OR (v.name ILIKE '%машинн%обучен%')\n",
    "        AND (v.key_skills IS NOT NULL)\n",
    "    )\n",
    "        AND (v.key_skills ILIKE '%SQL%' \n",
    "        OR v.key_skills ILIKE '% postgres%')\n",
    "'''"
   ]
  },
  {
   "cell_type": "code",
   "execution_count": 191,
   "id": "alA8WEAAvGdf",
   "metadata": {
    "id": "alA8WEAAvGdf"
   },
   "outputs": [
    {
     "name": "stderr",
     "output_type": "stream",
     "text": [
      "C:\\Users\\kinde\\AppData\\Local\\Temp\\ipykernel_10516\\3182662630.py:2: UserWarning:\n",
      "\n",
      "pandas only supports SQLAlchemy connectable (engine/connection) or database string URI or sqlite3 DBAPI2 connection. Other DBAPI2 objects are not tested. Please consider using SQLAlchemy.\n",
      "\n"
     ]
    },
    {
     "data": {
      "text/html": [
       "<div>\n",
       "<style scoped>\n",
       "    .dataframe tbody tr th:only-of-type {\n",
       "        vertical-align: middle;\n",
       "    }\n",
       "\n",
       "    .dataframe tbody tr th {\n",
       "        vertical-align: top;\n",
       "    }\n",
       "\n",
       "    .dataframe thead th {\n",
       "        text-align: right;\n",
       "    }\n",
       "</style>\n",
       "<table border=\"1\" class=\"dataframe\">\n",
       "  <thead>\n",
       "    <tr style=\"text-align: right;\">\n",
       "      <th></th>\n",
       "      <th>count</th>\n",
       "    </tr>\n",
       "  </thead>\n",
       "  <tbody>\n",
       "    <tr>\n",
       "      <th>0</th>\n",
       "      <td>229</td>\n",
       "    </tr>\n",
       "  </tbody>\n",
       "</table>\n",
       "</div>"
      ],
      "text/plain": [
       "   count\n",
       "0    229"
      ]
     },
     "execution_count": 191,
     "metadata": {},
     "output_type": "execute_result"
    }
   ],
   "source": [
    "# результат запроса\n",
    "cnt_ds_sql= pd.read_sql_query(query_6_3, connection)\n",
    "cnt_ds_sql"
   ]
  },
  {
   "cell_type": "markdown",
   "id": "1be1e9c6-37cf-4a5f-bfeb-04cab799dc80",
   "metadata": {
    "id": "1be1e9c6-37cf-4a5f-bfeb-04cab799dc80"
   },
   "source": [
    "4. Проверьте, насколько популярен Python в требованиях работодателей к DS.Для этого вычислите количество вакансий, в которых в качестве ключевого навыка указан Python.\n",
    "\n",
    "** Это можно сделать помощью запроса, аналогичного предыдущему.*"
   ]
  },
  {
   "cell_type": "code",
   "execution_count": 192,
   "id": "0036a355-9ccf-4564-8b01-73d8194297e7",
   "metadata": {
    "id": "0036a355-9ccf-4564-8b01-73d8194297e7"
   },
   "outputs": [],
   "source": [
    "# текст запроса\n",
    "query_6_4 = f'''\n",
    "    SELECT\n",
    "        COUNT(v.name)\n",
    "    FROM vacancies v\n",
    "    WHERE \n",
    "    (\n",
    "        (v.name ILIKE '%data scientist%') OR (v.name ILIKE '%data science%') OR (v.name ILIKE '%исследователь данных%')\n",
    "        OR ((v.name ILIKE '%ML%') AND (v.name NOT ILIKE '%HTML%'))\n",
    "        OR (v.name ILIKE '%machine learning%')\n",
    "        OR (v.name ILIKE '%машинн%обучен%')\n",
    "        AND (v.key_skills IS NOT NULL)\n",
    "    )\n",
    "        AND (v.key_skills ILIKE '%python%')\n",
    "'''"
   ]
  },
  {
   "cell_type": "code",
   "execution_count": 193,
   "id": "1i-5WyucvQ6v",
   "metadata": {
    "id": "1i-5WyucvQ6v"
   },
   "outputs": [
    {
     "name": "stderr",
     "output_type": "stream",
     "text": [
      "C:\\Users\\kinde\\AppData\\Local\\Temp\\ipykernel_10516\\3791371388.py:2: UserWarning:\n",
      "\n",
      "pandas only supports SQLAlchemy connectable (engine/connection) or database string URI or sqlite3 DBAPI2 connection. Other DBAPI2 objects are not tested. Please consider using SQLAlchemy.\n",
      "\n"
     ]
    },
    {
     "data": {
      "text/html": [
       "<div>\n",
       "<style scoped>\n",
       "    .dataframe tbody tr th:only-of-type {\n",
       "        vertical-align: middle;\n",
       "    }\n",
       "\n",
       "    .dataframe tbody tr th {\n",
       "        vertical-align: top;\n",
       "    }\n",
       "\n",
       "    .dataframe thead th {\n",
       "        text-align: right;\n",
       "    }\n",
       "</style>\n",
       "<table border=\"1\" class=\"dataframe\">\n",
       "  <thead>\n",
       "    <tr style=\"text-align: right;\">\n",
       "      <th></th>\n",
       "      <th>count</th>\n",
       "    </tr>\n",
       "  </thead>\n",
       "  <tbody>\n",
       "    <tr>\n",
       "      <th>0</th>\n",
       "      <td>357</td>\n",
       "    </tr>\n",
       "  </tbody>\n",
       "</table>\n",
       "</div>"
      ],
      "text/plain": [
       "   count\n",
       "0    357"
      ]
     },
     "execution_count": 193,
     "metadata": {},
     "output_type": "execute_result"
    }
   ],
   "source": [
    "# результат запроса\n",
    "cnt_ds_sql= pd.read_sql_query(query_6_4, connection)\n",
    "cnt_ds_sql"
   ]
  },
  {
   "cell_type": "markdown",
   "id": "ec3c8db7-fa21-4a41-a994-1af63742a642",
   "metadata": {
    "id": "ec3c8db7-fa21-4a41-a994-1af63742a642"
   },
   "source": [
    "5. Сколько ключевых навыков в среднем указывают в вакансиях для DS?\n",
    "Ответ округлите до двух знаков после точки-разделителя."
   ]
  },
  {
   "cell_type": "code",
   "execution_count": 194,
   "id": "949132bc-d5b6-4611-8218-0b9a504d74f4",
   "metadata": {
    "id": "949132bc-d5b6-4611-8218-0b9a504d74f4"
   },
   "outputs": [],
   "source": [
    "# текст запроса\n",
    "query_6_5 = f'''\n",
    "    SELECT\n",
    "        ROUND(AVG(LENGTH(v.key_skills) - LENGTH(REPLACE(v.key_skills, CHR(9),''))+1),2)\n",
    "    FROM \n",
    "        vacancies v\n",
    "    WHERE \n",
    "        (\n",
    "            (v.name ILIKE '%data scientist%')\n",
    "            OR (v.name ILIKE '%data science%')\n",
    "            OR (v.name ILIKE '%исследователь данных%')\n",
    "            OR ((v.name LIKE '%ML%') AND (v.name NOT ILIKE '%HTML%'))\n",
    "            OR (v.name ILIKE '%machine learning%')\n",
    "            OR (v.name ILIKE '%машинн%обучен%')\n",
    "            AND (v.key_skills IS NOT NULL)\n",
    "        )\n",
    "'''"
   ]
  },
  {
   "cell_type": "code",
   "execution_count": 195,
   "id": "a3V24Tvmviqk",
   "metadata": {
    "id": "a3V24Tvmviqk"
   },
   "outputs": [
    {
     "name": "stderr",
     "output_type": "stream",
     "text": [
      "C:\\Users\\kinde\\AppData\\Local\\Temp\\ipykernel_10516\\588389752.py:2: UserWarning:\n",
      "\n",
      "pandas only supports SQLAlchemy connectable (engine/connection) or database string URI or sqlite3 DBAPI2 connection. Other DBAPI2 objects are not tested. Please consider using SQLAlchemy.\n",
      "\n"
     ]
    },
    {
     "data": {
      "text/html": [
       "<div>\n",
       "<style scoped>\n",
       "    .dataframe tbody tr th:only-of-type {\n",
       "        vertical-align: middle;\n",
       "    }\n",
       "\n",
       "    .dataframe tbody tr th {\n",
       "        vertical-align: top;\n",
       "    }\n",
       "\n",
       "    .dataframe thead th {\n",
       "        text-align: right;\n",
       "    }\n",
       "</style>\n",
       "<table border=\"1\" class=\"dataframe\">\n",
       "  <thead>\n",
       "    <tr style=\"text-align: right;\">\n",
       "      <th></th>\n",
       "      <th>round</th>\n",
       "    </tr>\n",
       "  </thead>\n",
       "  <tbody>\n",
       "    <tr>\n",
       "      <th>0</th>\n",
       "      <td>6.41</td>\n",
       "    </tr>\n",
       "  </tbody>\n",
       "</table>\n",
       "</div>"
      ],
      "text/plain": [
       "   round\n",
       "0   6.41"
      ]
     },
     "execution_count": 195,
     "metadata": {},
     "output_type": "execute_result"
    }
   ],
   "source": [
    "# результат запроса\n",
    "cnt_skills= pd.read_sql_query(query_6_5, connection)\n",
    "cnt_skills"
   ]
  },
  {
   "cell_type": "markdown",
   "id": "1041c17a-ca8f-4543-a0ca-32778914fb00",
   "metadata": {
    "id": "1041c17a-ca8f-4543-a0ca-32778914fb00"
   },
   "source": [
    "6. Напишите запрос, позволяющий вычислить, какую зарплату для DS в **среднем** указывают для каждого типа требуемого опыта (уникальное значение из поля *experience*). \n",
    "\n",
    "При решении задачи примите во внимание следующее:\n",
    "1. Рассматриваем только вакансии, у которых заполнено хотя бы одно из двух полей с зарплатой.\n",
    "2. Если заполнены оба поля с зарплатой, то считаем зарплату по каждой вакансии как сумму двух полей, делённую на 2. Если заполнено только одно из полей, то его и считаем зарплатой по вакансии.\n",
    "3. Если в расчётах участвует null, в результате он тоже даст null (посмотрите, что возвращает запрос select 1 + null). Чтобы избежать этой ситуацию, мы воспользуемся функцией [coalesce](https://postgrespro.ru/docs/postgresql/9.5/functions-conditional#functions-coalesce-nvl-ifnull), которая заменит null на значение, которое мы передадим. Например, посмотрите, что возвращает запрос `select 1 + coalesce(null, 0)`\n",
    "\n",
    "Выясните, на какую зарплату в среднем может рассчитывать дата-сайентист с опытом работы от 3 до 6 лет. Результат округлите до целого числа. "
   ]
  },
  {
   "cell_type": "code",
   "execution_count": 196,
   "id": "6a743d39-5204-48d3-8271-b9f88e68d40e",
   "metadata": {
    "id": "6a743d39-5204-48d3-8271-b9f88e68d40e"
   },
   "outputs": [],
   "source": [
    "# текст запроса\n",
    "query_6_6 = f'''\n",
    "    SELECT\n",
    "        DISTINCT(v.experience),\n",
    "        ROUND(AVG(COALESCE((v.salary_from + v.salary_to) / 2, v.salary_from, v.salary_to)), 0) avg_salary\n",
    "    FROM vacancies v\n",
    "    WHERE\n",
    "        (\n",
    "            (v.name ILIKE '%data scientist%')\n",
    "            OR (v.name ILIKE '%data science%')\n",
    "            OR (v.name ILIKE '%исследователь данных%')\n",
    "            OR ((v.name LIKE '%ML%') AND (v.name NOT ILIKE '%HTML%'))\n",
    "            OR (v.name ILIKE '%machine learning%')\n",
    "            OR (v.name ILIKE '%машинн%обучен%')\n",
    "            AND (v.key_skills IS NOT NULL)\n",
    "        )\n",
    "        AND (v.salary_from IS NOT NULL OR v.salary_to IS NOT NULL)\n",
    "    GROUP BY 1\n",
    "    ORDER BY 1\n",
    "'''"
   ]
  },
  {
   "cell_type": "code",
   "execution_count": 197,
   "id": "aRIJ0mZEwU1_",
   "metadata": {
    "id": "aRIJ0mZEwU1_"
   },
   "outputs": [
    {
     "name": "stderr",
     "output_type": "stream",
     "text": [
      "C:\\Users\\kinde\\AppData\\Local\\Temp\\ipykernel_10516\\4147299713.py:2: UserWarning:\n",
      "\n",
      "pandas only supports SQLAlchemy connectable (engine/connection) or database string URI or sqlite3 DBAPI2 connection. Other DBAPI2 objects are not tested. Please consider using SQLAlchemy.\n",
      "\n"
     ]
    },
    {
     "data": {
      "text/html": [
       "<div>\n",
       "<style scoped>\n",
       "    .dataframe tbody tr th:only-of-type {\n",
       "        vertical-align: middle;\n",
       "    }\n",
       "\n",
       "    .dataframe tbody tr th {\n",
       "        vertical-align: top;\n",
       "    }\n",
       "\n",
       "    .dataframe thead th {\n",
       "        text-align: right;\n",
       "    }\n",
       "</style>\n",
       "<table border=\"1\" class=\"dataframe\">\n",
       "  <thead>\n",
       "    <tr style=\"text-align: right;\">\n",
       "      <th></th>\n",
       "      <th>experience</th>\n",
       "      <th>avg_salary</th>\n",
       "    </tr>\n",
       "  </thead>\n",
       "  <tbody>\n",
       "    <tr>\n",
       "      <th>0</th>\n",
       "      <td>Нет опыта</td>\n",
       "      <td>74643.0</td>\n",
       "    </tr>\n",
       "    <tr>\n",
       "      <th>1</th>\n",
       "      <td>От 1 года до 3 лет</td>\n",
       "      <td>145236.0</td>\n",
       "    </tr>\n",
       "    <tr>\n",
       "      <th>2</th>\n",
       "      <td>От 3 до 6 лет</td>\n",
       "      <td>243115.0</td>\n",
       "    </tr>\n",
       "  </tbody>\n",
       "</table>\n",
       "</div>"
      ],
      "text/plain": [
       "           experience  avg_salary\n",
       "0           Нет опыта     74643.0\n",
       "1  От 1 года до 3 лет    145236.0\n",
       "2       От 3 до 6 лет    243115.0"
      ]
     },
     "execution_count": 197,
     "metadata": {},
     "output_type": "execute_result"
    }
   ],
   "source": [
    "# результат запроса\n",
    "avg_salary = pd.read_sql_query(query_6_6, connection)\n",
    "avg_salary"
   ]
  },
  {
   "cell_type": "markdown",
   "id": "6a7892b4-4113-4746-adce-18aa2844f18e",
   "metadata": {
    "id": "6a7892b4-4113-4746-adce-18aa2844f18e"
   },
   "source": [
    "***"
   ]
  },
  {
   "cell_type": "markdown",
   "id": "fde5b5b0",
   "metadata": {},
   "source": [
    "Дополнительно визуализируем данные по предметному анализу"
   ]
  },
  {
   "cell_type": "markdown",
   "id": "ea4736ba",
   "metadata": {},
   "source": [
    "Столбчатая диаграмма, показывающая общее количество вакансий, вакансии, относящиеся к данным и Data Science вакансии:"
   ]
  },
  {
   "cell_type": "code",
   "execution_count": 198,
   "id": "81e7dcee",
   "metadata": {},
   "outputs": [
    {
     "name": "stderr",
     "output_type": "stream",
     "text": [
      "C:\\Users\\kinde\\AppData\\Local\\Temp\\ipykernel_10516\\839135375.py:15: UserWarning:\n",
      "\n",
      "pandas only supports SQLAlchemy connectable (engine/connection) or database string URI or sqlite3 DBAPI2 connection. Other DBAPI2 objects are not tested. Please consider using SQLAlchemy.\n",
      "\n"
     ]
    },
    {
     "data": {
      "image/png": "[encoded data removed]"
     },
     "metadata": {},
     "output_type": "display_data"
    }
   ],
   "source": [
    "# Данные для визуализации\n",
    "# запрос с количеством вакансий по DS\n",
    "query_ds = f'''\n",
    "    SELECT\n",
    "        COUNT(v.name)\n",
    "    FROM vacancies v\n",
    "    WHERE \n",
    "    (\n",
    "        (v.name ILIKE '%data scientist%') OR (v.name ILIKE '%data science%') OR (v.name ILIKE '%исследователь данных%')\n",
    "        OR ((v.name ILIKE '%ML%') AND (v.name NOT ILIKE '%HTML%'))\n",
    "        OR (v.name ILIKE '%machine learning%')\n",
    "        OR (v.name ILIKE '%машинн%обучен%')\n",
    "     )\n",
    "'''\n",
    "vacancies_ds = pd.read_sql_query(query_ds, connection)\n",
    "        \n",
    "data = {\n",
    "    'Категория': ['Общее количество вакансий', 'Вакансии, относящиеся к данным', 'Data Science вакансии'],\n",
    "    'Количество': [\n",
    "        count_vacancies.iloc[0, 0],  # Общее количество вакансий\n",
    "        data_vacation.iloc[0, 0],   # Вакансии, относящиеся к данным\n",
    "        vacancies_ds.iloc[0, 0]           # Data Science вакансии\n",
    "    ]\n",
    "}\n",
    "\n",
    "df = pd.DataFrame(data)\n",
    "\n",
    "# Построение графика\n",
    "fig = px.bar(\n",
    "    df,\n",
    "    x='Категория',\n",
    "    y='Количество',\n",
    "    title='Распределение вакансий',\n",
    "    text='Количество',  # Подписи для столбцов\n",
    "    color='Категория',  # Раскрашивание столбцов для различия\n",
    "    color_discrete_sequence=['#C75DAB', '#75C5C7', '#029C9F']\n",
    ")\n",
    "\n",
    "# Показать график\n",
    "#fig.show()\n",
    "fig.show('png')"
   ]
  },
  {
   "cell_type": "markdown",
   "id": "048ca019",
   "metadata": {},
   "source": [
    "***"
   ]
  },
  {
   "cell_type": "markdown",
   "id": "2e56132d",
   "metadata": {},
   "source": [
    "Построим диаграмму, показывающую долю вакансий для junior Data Science"
   ]
  },
  {
   "cell_type": "code",
   "execution_count": 199,
   "id": "d2d019b0",
   "metadata": {},
   "outputs": [
    {
     "data": {
      "image/png": "[encoded data removed]"
     },
     "metadata": {},
     "output_type": "display_data"
    }
   ],
   "source": [
    "# Данные для диаграмы\n",
    "df = pd.DataFrame({\n",
    "    'category': ['Junior DS вакансии', 'Остальные DS вакансии'],\n",
    "    'count': [51, 536 - 51]  # Подсчет остальных вакансий\n",
    "})\n",
    "\n",
    "# Построение круговой диаграммы\n",
    "fig = px.pie(\n",
    "    df,\n",
    "    names='category',\n",
    "    values='count',\n",
    "    title='Доля вакансий для начинающих Data Science среди всех вакансий Data Science',\n",
    "    color='category',\n",
    "    color_discrete_sequence=['#C75DAB', '#029C9F']\n",
    ")\n",
    "\n",
    "#fig.show()\n",
    "fig.show('png')\n"
   ]
  },
  {
   "cell_type": "markdown",
   "id": "3877b5b3",
   "metadata": {},
   "source": [
    "Диаграмма с долей вакансий DS с обязательным знанием SQL или postgres"
   ]
  },
  {
   "cell_type": "code",
   "execution_count": 200,
   "id": "3c0b91c3",
   "metadata": {},
   "outputs": [
    {
     "data": {
      "image/png": "[encoded data removed]"
     },
     "metadata": {},
     "output_type": "display_data"
    }
   ],
   "source": [
    "# Данные для диаграмы\n",
    "df = pd.DataFrame({\n",
    "    'category': ['Вакансии со знанием SQL или postgres', 'Остальные DS вакансии'],\n",
    "    'count': [229, 536 - 229]  # Подсчет остальных вакансий\n",
    "})\n",
    "\n",
    "# Построение круговой диаграммы\n",
    "fig = px.pie(\n",
    "    df,\n",
    "    names='category',\n",
    "    values='count',\n",
    "    title='Доля вакансий со знанием SQL или Postgres среди всех вакансий DS',\n",
    "    color='category',\n",
    "    color_discrete_sequence=['#C75DAB', '#029C9F']\n",
    ")\n",
    "\n",
    "#fig.show()\n",
    "fig.show('png')\n"
   ]
  },
  {
   "cell_type": "markdown",
   "id": "5f8808b4",
   "metadata": {},
   "source": [
    "***"
   ]
  },
  {
   "cell_type": "markdown",
   "id": "33271399",
   "metadata": {},
   "source": [
    "Диаграмма доли вакансий по DS со знанием Python"
   ]
  },
  {
   "cell_type": "code",
   "execution_count": 201,
   "id": "aca26b72",
   "metadata": {},
   "outputs": [
    {
     "data": {
      "image/png": "[encoded data removed]"
     },
     "metadata": {},
     "output_type": "display_data"
    }
   ],
   "source": [
    "# Данные для диаграмы\n",
    "df = pd.DataFrame({\n",
    "    'category': ['Вакансии со знанием PYTHON', 'Остальные DS вакансии'],\n",
    "    'count': [357, 536 - 357]  # Подсчет остальных вакансий\n",
    "})\n",
    "\n",
    "# Построение круговой диаграммы\n",
    "fig = px.pie(\n",
    "    df,\n",
    "    names='category',\n",
    "    values='count',\n",
    "    title='Доля вакансий для Data Science среди всех вакансий Data Science',\n",
    "    color='category',\n",
    "    color_discrete_sequence=['#C75DAB', '#029C9F']\n",
    ")\n",
    "\n",
    "#fig.show()\n",
    "fig.show('png')"
   ]
  },
  {
   "cell_type": "markdown",
   "id": "68dc4276",
   "metadata": {},
   "source": [
    "***"
   ]
  },
  {
   "cell_type": "markdown",
   "id": "f94b2ef6",
   "metadata": {},
   "source": [
    "График распределения средней ЗП для каждого типа требуемого опыта работы"
   ]
  },
  {
   "cell_type": "code",
   "execution_count": 202,
   "id": "575d3e8e",
   "metadata": {},
   "outputs": [
    {
     "data": {
      "image/png": "[encoded data removed]"
     },
     "metadata": {},
     "output_type": "display_data"
    }
   ],
   "source": [
    "# Построение столбчатой диаграммы\n",
    "fig = px.bar(\n",
    "    avg_salary,\n",
    "    x='experience',\n",
    "    y='avg_salary',\n",
    "    title='Распредение средней ЗП в зависимости от требуемого опыта',\n",
    "    labels={'experience': 'Опыт работы', 'round': 'Средняя ЗП'},\n",
    "    color_discrete_sequence=['#029C9F']\n",
    ")\n",
    "\n",
    "#fig.show()\n",
    "fig.show('png')\n"
   ]
  },
  {
   "cell_type": "markdown",
   "id": "73c4acff",
   "metadata": {},
   "source": [
    "По результатам анализа вакансий по DS можно сделать следующие выводы:\n",
    "\n",
    "1. - Хотя Data Science – это перспективная область, её доля в общем числе вакансий сравнительно невелика (536 вакансий, 1.1%). Это может свидетельствовать о том, что работодатели все еще рассматривают её как нишевую и специализированную область, где требуется высокий уровень знаний и навыков.\n",
    "\n",
    "   - Вакансии, относящиеся к данным, составляют около 3.6%(1771) от общего числа, что говорит о значении аналитических и связанных с данными профессий в экономике.\n",
    "\n",
    "2. Очень небольшое количество вакансий (51 вакансия, это 9.5% от всех вакансий в Data Science) предназначено для начинающих специалистов. Это может указывать на высокий уровень требований к кандидатам, которые должны иметь опыт и навыки для выполнения задач без значительной дополнительной подготовки.\n",
    "\n",
    "3. Вакансий с обязательным знанием SQL или PostgreSQL представлено 229. Эти вакансии составляют около 42.6% от общего количества вакансий в области Data Science, что показывает высокий спрос на специалистов, умеющих эффективно работать с базами данных и извлечением данных.\n",
    "\n",
    "4. Из всех вакансий по DS 357 вакансий требуют знание Python. Эти вакансии составляют около 66.6% от общего числа вакансий в Data Science. \n",
    "\n",
    "5. - Для специалистов по Data Science без опыта работы средняя ЗП составляет 74643 руб. Несмотря на отсутствие опыта, зарплата показывает, что компании готовы платить за потенциал и обучение новых сотрудников.\n",
    "\n",
    "   - Средняя зарплата для специалистов с опытом от 1 года до 3 лет составляет 145236 руб. Это более чем в два раза выше, чем у начинающих специалистов, что отражает рост дохода с накоплением навыков и увеличением ответственности.\n",
    "\n",
    "   - Специалисты с опытом от 3 до 6 лет получают в среднем 243115 руб. Эта категория имеет наиболее высокую зарплату."
   ]
  },
  {
   "cell_type": "markdown",
   "id": "c0ED6fh7wiBT",
   "metadata": {
    "id": "c0ED6fh7wiBT"
   },
   "source": [
    "# Общий вывод по проекту"
   ]
  },
  {
   "cell_type": "markdown",
   "id": "164ddf1e",
   "metadata": {},
   "source": [
    "\n",
    "\n",
    "1. Общие выводы:\n",
    "\n",
    "- Высокий спрос на рабочую силу: Общее количество вакансий (49,197) указывает на востребованность специалистов в различных областях. Однако, это также может свидетельствовать о нехватке профессионалов с необходимыми навыками, что приводит к высококонкурентной среде среди работодателей, готовых предлагать более привлекательные условия работы.\n",
    "\n",
    "- Разнообразие работодателей и сфер: Большое количество работодателей (23,501) и широкое количество сфер деятельности (294) подтверждают диверсификацию рынка труда и возможность выбора для соискателей.\n",
    "\n",
    "- Неравномерное распределение по регионам: 60% вакансий сосредоточены в 20 регионах, что указывает на дисбаланс в экономическом развитии и возможную необходимость привлечения инвестиций в менее активные регионы.\n",
    "\n",
    "2. Особенности вакансий и условий труда:\n",
    "- Недостаток прозрачности по зарплатам: Более половины вакансий (51,1%) не указывают границы заработной платы, что затрудняет принятие решений соискателями и снижает прозрачность рынка.\n",
    "\n",
    "- Уровень зарплат: В большинстве вакансий средняя зарплата находится в диапазоне от 60 тыс. до 150 тыс. руб. по верхней границе и от 35 тыс. до 90 тыс. руб. по нижней, что соответствует среднерыночным условиям. Однако наблюдаются аномалии с высокими значениями, где зарплата превышает 300 тыс. руб., что может указывать на редкие или высококвалифицированные позиции.\n",
    "    \n",
    "- Типы занятости: Полная занятость и полный рабочий день преобладают, но наблюдается рост интереса к удаленной работе и гибкому графику, что отражает адаптацию рынка к новым условиям.\n",
    "\n",
    "3. Анализ по регионам и работодателям:\n",
    "\n",
    "- Москва и Санкт-Петербург лидируют по количеству вакансий, что свидетельствует о развитой экономике и высоком спросе на рабочую силу в этих регионах.\n",
    "\n",
    "- Лидеры среди работодателей: Яндекс, Ростелеком и Тинькофф доминируют по количеству вакансий, что подчеркивает активное развитие IT и цифровых решений.\n",
    "\n",
    "- Масштаб деятельности компаний: Яндекс и Ростелеком активно развивают бизнес на всей территории России, что отражает потребность в кадрах и услуги, доступные в разных регионах.\n",
    "\n",
    "4. Анализ Data Science вакансий:\n",
    "- Сравнительно малая доля: Data Science вакансии составляют всего 1.1% от общего числа, что говорит о специализированности этой области и высоких требованиях к кандидатам.\n",
    "\n",
    "- Основной спрос идет на специалистов, владеющих Python (66.6% вакансий) и SQL/PostgreSQL (42.6% вакансий), что отражает необходимость работы с данными и аналитическими инструментами.\n",
    "\n",
    "- Средние зарплаты по опыту:\n",
    "\n",
    "    - Начинающие специалисты — 74643 руб.\n",
    "    - Специалисты с опытом от 1 года до 3 лет — 145236 руб.\n",
    "    - Специалисты с опытом от 3 до 6 лет — 243115 руб.\n",
    "\n",
    "5. Рекомендации для дальнейших исследований:\n",
    "\n",
    "- Изучение региональных различий: Провести дополнительный анализ, чтобы выяснить, какие меры могут способствовать привлечению больше вакансий и специалистов в менее развитые регионы.\n",
    "\n",
    "- Анализ прозрачности зарплат: Оценить влияние отсутствия границ зарплаты на привлекательность вакансий и возможные меры по улучшению прозрачности.\n",
    "\n",
    "- Детальный анализ по отраслям: Провести более глубокий анализ вакансий по ключевым отраслям, чтобы выявить, где больше всего востребованы специалисты и где ожидаются изменения в будущем.\n",
    "\n",
    "Заключение\n",
    "\n",
    "Данные о рынке вакансий и труда подтверждают наличие высокой конкуренции среди работодателей, большой востребованности специалистов с опытом и квалификацией, а также актуальные тенденции, такие как удаленная работа и гибкий график. Прозрачность условий труда и зарплат остается важной задачей для улучшения качества рынка и повышения его эффективности.\n",
    "\n",
    "\n",
    "\n",
    "\n",
    "\n",
    "\n"
   ]
  }
 ],
 "metadata": {
  "colab": {
   "collapsed_sections": [
    "8d62a9f3-f64e-4fe7-bdac-c4dffa16155e"
   ],
   "provenance": []
  },
  "kernelspec": {
   "display_name": "Python 3",
   "language": "python",
   "name": "python3"
  },
  "language_info": {
   "codemirror_mode": {
    "name": "ipython",
    "version": 3
   },
   "file_extension": ".py",
   "mimetype": "text/x-python",
   "name": "python",
   "nbconvert_exporter": "python",
   "pygments_lexer": "ipython3",
   "version": "3.12.0"
  }
 },
 "nbformat": 4,
 "nbformat_minor": 5
}
